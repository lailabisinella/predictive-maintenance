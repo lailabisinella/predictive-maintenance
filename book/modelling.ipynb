{
 "cells": [
  {
   "cell_type": "markdown",
   "id": "eb394079-72dd-4a23-95d6-2458c0b8ff2e",
   "metadata": {},
   "source": [
    "## Preprocessing"
   ]
  },
  {
   "cell_type": "code",
   "execution_count": 1,
   "id": "3170bf71-f435-422e-bfd3-4b0ec3cf3af5",
   "metadata": {},
   "outputs": [],
   "source": [
    "import pandas as pd\n",
    "df = pd.read_parquet('../data/dataset.parquet', engine='pyarrow')"
   ]
  },
  {
   "cell_type": "markdown",
   "id": "02fb645f-f3b9-410b-a6c8-b3f01e892032",
   "metadata": {},
   "source": [
    "Remove **time_to_failure** and **session_counter** and set **Timestamp** as the index."
   ]
  },
  {
   "cell_type": "code",
   "execution_count": 2,
   "id": "d7c575aa-f52d-44da-b738-daab356d3cf2",
   "metadata": {},
   "outputs": [],
   "source": [
    "df.drop(columns=['session_counter', 'time_to_failure'], inplace=True)\n",
    "df.set_index('Timestamp', inplace=True)"
   ]
  },
  {
   "cell_type": "markdown",
   "id": "84043d9c-b7f8-477e-ad1f-b9ac96e862b8",
   "metadata": {},
   "source": [
    "## Modelling"
   ]
  },
  {
   "cell_type": "code",
   "execution_count": 3,
   "id": "c845320a-d12b-49ef-ada4-ef7e3e9ce431",
   "metadata": {},
   "outputs": [
    {
     "name": "stdout",
     "output_type": "stream",
     "text": [
      "-> Label:\t(1,)\n",
      "\t['alert_11']\n",
      "-> Features:\t(13,)\n",
      "\t['Current speed cart [%]' 'Flag roping' 'Lifting motor speed [RPM]'\n",
      " 'Lifting speed rotation [M/MIN]' 'Platform Motor frequency [HZ]'\n",
      " 'Platform Position [°]' 'Platform motor speed [%]'\n",
      " 'Platform rotation speed [RPM]' 'Slave rotation speed [M/MIN]'\n",
      " 'Temperature hoist drive [°C]' 'Temperature platform drive [°C]'\n",
      " 'Temperature slave drive [°C]' 'Tensione totale film [%]']\n"
     ]
    }
   ],
   "source": [
    "import numpy as np\n",
    "\n",
    "label = np.array(['alert_11'])\n",
    "features = np.array(df.columns.difference(label))\n",
    "\n",
    "print(f\"-> Label:\\t{label.shape}\")\n",
    "print(f\"\\t{label}\")\n",
    "print(f\"-> Features:\\t{features.shape}\")\n",
    "print(f\"\\t{features}\")"
   ]
  },
  {
   "cell_type": "code",
   "execution_count": 4,
   "id": "2dafd5ec-e2c9-4fb2-ab54-fc0524ca8471",
   "metadata": {},
   "outputs": [
    {
     "name": "stdout",
     "output_type": "stream",
     "text": [
      "-> X:\t(679045, 13)\n",
      "-> y:\t(679045,)\n"
     ]
    }
   ],
   "source": [
    "X = df[features].to_numpy()\n",
    "y = df[label].to_numpy().flatten()\n",
    "\n",
    "print(f\"-> X:\\t{X.shape}\")\n",
    "print(f\"-> y:\\t{y.shape}\")"
   ]
  },
  {
   "cell_type": "markdown",
   "id": "a6d5589b-0878-4553-b99e-08d3d38547ef",
   "metadata": {},
   "source": [
    "## MTS Sliding Window"
   ]
  },
  {
   "cell_type": "code",
   "execution_count": 5,
   "id": "68da7208-a0b4-4e3b-a710-78a8508f66c1",
   "metadata": {},
   "outputs": [],
   "source": [
    "import numpy as np \n",
    "\n",
    "def window(X_data, y_data, width: int, shift: int):\n",
    "    \n",
    "    X_wins, y_wins = [], []\n",
    "\n",
    "    for index, (X, y) in enumerate(zip(X_data, y_data)):\n",
    "        if (index + width + shift) <= X_data.shape[0]:\n",
    "\n",
    "            window = slice((index + width), (index + width + shift))\n",
    "\n",
    "            X_wins.append(X_data[index: index + width])\n",
    "\n",
    "            y_values_shift = y_data[window]\n",
    "            y_wins.append(int(np.any(y_values_shift == 1)))\n",
    "\n",
    "    X_wins = np.array(X_wins)\n",
    "    y_wins = np.array(y_wins)\n",
    "    return X_wins.reshape(X_wins.shape[0], -1), y_wins.flatten()"
   ]
  },
  {
   "cell_type": "code",
   "execution_count": 6,
   "id": "0ce9a242-931d-4dd7-9739-7fc3ba4afd03",
   "metadata": {},
   "outputs": [],
   "source": [
    "X_wins, y_wins = window(X, y, width=120, shift=180)"
   ]
  },
  {
   "cell_type": "code",
   "execution_count": 7,
   "id": "3089d829-4c9b-4e99-8ec9-1f9331e20c81",
   "metadata": {},
   "outputs": [
    {
     "name": "stdout",
     "output_type": "stream",
     "text": [
      "-> X:\t(678746, 1560)\n",
      "-> y:\t(678746,)\n"
     ]
    }
   ],
   "source": [
    "print(f\"-> X:\\t{X_wins.shape}\")\n",
    "print(f\"-> y:\\t{y_wins.shape}\")"
   ]
  },
  {
   "cell_type": "markdown",
   "id": "3fb2be7c-b56c-46be-9034-642ca9347aab",
   "metadata": {},
   "source": [
    "## Undersampling"
   ]
  },
  {
   "cell_type": "code",
   "execution_count": 8,
   "id": "4de763c1-7541-47b6-a0b5-e39e6f063140",
   "metadata": {},
   "outputs": [],
   "source": [
    "from imblearn.under_sampling import RandomUnderSampler\n",
    "\n",
    "rus = RandomUnderSampler(random_state=0)\n",
    "\n",
    "X_res, y_res = rus.fit_resample(X_wins, y_wins)"
   ]
  },
  {
   "cell_type": "code",
   "execution_count": 9,
   "id": "46a12c77-4ef5-4e4a-92a9-79bbf208b72d",
   "metadata": {},
   "outputs": [],
   "source": [
    "classes, distribution = np.unique(y_res, return_counts=True)"
   ]
  },
  {
   "cell_type": "code",
   "execution_count": 10,
   "id": "21084b51-9fa6-4569-8640-768900046fbb",
   "metadata": {},
   "outputs": [
    {
     "name": "stdout",
     "output_type": "stream",
     "text": [
      "-> X_res:\t(6648, 1560)\n",
      "-> y_res:\t(6648,)\n"
     ]
    }
   ],
   "source": [
    "print(f\"-> X_res:\\t{X_res.shape}\")\n",
    "print(f\"-> y_res:\\t{y_res.shape}\")"
   ]
  },
  {
   "cell_type": "code",
   "execution_count": 11,
   "id": "335c2132-8ef2-4251-a01e-3b4963f4530c",
   "metadata": {},
   "outputs": [
    {
     "name": "stdout",
     "output_type": "stream",
     "text": [
      "-> 0:\t3324\n",
      "-> 1:\t3324\n"
     ]
    }
   ],
   "source": [
    "print(f\"-> {classes[0]}:\\t{distribution[0]}\")\n",
    "print(f\"-> {classes[1]}:\\t{distribution[1]}\")"
   ]
  },
  {
   "cell_type": "markdown",
   "id": "314391ab-5203-4385-8d90-d3b85b09b317",
   "metadata": {},
   "source": [
    "## Models"
   ]
  },
  {
   "cell_type": "markdown",
   "id": "185fbabf-8a85-4522-b78b-37013a72ab9d",
   "metadata": {},
   "source": [
    "Random Forest"
   ]
  },
  {
   "cell_type": "code",
   "execution_count": 12,
   "id": "f9c43d7d-20f8-43a4-a7cf-06bf3b211bd8",
   "metadata": {},
   "outputs": [],
   "source": [
    "from sklearn.ensemble import RandomForestClassifier\n",
    "\n",
    "rf = RandomForestClassifier(n_estimators=100, random_state=1234)"
   ]
  },
  {
   "cell_type": "markdown",
   "id": "51af53a7-f19a-41a6-99f7-f1c522c3a5e0",
   "metadata": {},
   "source": [
    "SVM (Support Vector Machine)."
   ]
  },
  {
   "cell_type": "code",
   "execution_count": 13,
   "id": "789e2b3c-d84c-4c94-a77f-85068c78f478",
   "metadata": {},
   "outputs": [],
   "source": [
    "from sklearn.svm import SVC\n",
    "\n",
    "svc = SVC(random_state=1234, C=1)"
   ]
  },
  {
   "cell_type": "markdown",
   "id": "51be8bd1-597d-48fa-8be4-8c7a45e07d61",
   "metadata": {},
   "source": [
    "## K-Fold Cross Validation"
   ]
  },
  {
   "cell_type": "code",
   "execution_count": 31,
   "id": "2a59bb36-380a-4370-b0a7-79761800c082",
   "metadata": {},
   "outputs": [],
   "source": [
    "from sklearn.model_selection import BaseCrossValidator\n",
    "from sklearn.metrics import accuracy_score\n",
    "\n",
    "class FixedSizeKFold(BaseCrossValidator):\n",
    "    def __init__(self, n_splits : int = 5):\n",
    "        self.n_splits = n_splits\n",
    "    \n",
    "    def get_n_splits(self, X = None, y = None, groups = None) -> int:\n",
    "        return self.n_splits\n",
    "\n",
    "    def split(self, X, y,  groups = None, val_size: float = 0.2):\n",
    "        fold_size = len(X) // self.n_splits\n",
    "\n",
    "        for fold in range(self.n_splits):\n",
    "            start = fold * fold_size\n",
    "            \n",
    "            if fold == self.n_splits - 1:\n",
    "                end = len(X)          \n",
    "            else: \n",
    "                end = (fold + 1) * fold_size\n",
    "\n",
    "            train_start = start\n",
    "            train_end = int((1 - val_size) * fold_size)\n",
    "\n",
    "            val_start = train_end\n",
    "            val_end = end\n",
    "            \n",
    "            yield np.arange(train_start, train_end), np.arange(val_start, val_end)"
   ]
  },
  {
   "cell_type": "code",
   "execution_count": 32,
   "id": "4b87cece-1a71-4136-9af5-b52e13949c30",
   "metadata": {},
   "outputs": [
    {
     "name": "stdout",
     "output_type": "stream",
     "text": [
      "[   0    1    2 ... 1060 1061 1062]\n",
      "[1063 1064 1065 1066 1067 1068 1069 1070 1071 1072 1073 1074 1075 1076\n",
      " 1077 1078 1079 1080 1081 1082 1083 1084 1085 1086 1087 1088 1089 1090\n",
      " 1091 1092 1093 1094 1095 1096 1097 1098 1099 1100 1101 1102 1103 1104\n",
      " 1105 1106 1107 1108 1109 1110 1111 1112 1113 1114 1115 1116 1117 1118\n",
      " 1119 1120 1121 1122 1123 1124 1125 1126 1127 1128 1129 1130 1131 1132\n",
      " 1133 1134 1135 1136 1137 1138 1139 1140 1141 1142 1143 1144 1145 1146\n",
      " 1147 1148 1149 1150 1151 1152 1153 1154 1155 1156 1157 1158 1159 1160\n",
      " 1161 1162 1163 1164 1165 1166 1167 1168 1169 1170 1171 1172 1173 1174\n",
      " 1175 1176 1177 1178 1179 1180 1181 1182 1183 1184 1185 1186 1187 1188\n",
      " 1189 1190 1191 1192 1193 1194 1195 1196 1197 1198 1199 1200 1201 1202\n",
      " 1203 1204 1205 1206 1207 1208 1209 1210 1211 1212 1213 1214 1215 1216\n",
      " 1217 1218 1219 1220 1221 1222 1223 1224 1225 1226 1227 1228 1229 1230\n",
      " 1231 1232 1233 1234 1235 1236 1237 1238 1239 1240 1241 1242 1243 1244\n",
      " 1245 1246 1247 1248 1249 1250 1251 1252 1253 1254 1255 1256 1257 1258\n",
      " 1259 1260 1261 1262 1263 1264 1265 1266 1267 1268 1269 1270 1271 1272\n",
      " 1273 1274 1275 1276 1277 1278 1279 1280 1281 1282 1283 1284 1285 1286\n",
      " 1287 1288 1289 1290 1291 1292 1293 1294 1295 1296 1297 1298 1299 1300\n",
      " 1301 1302 1303 1304 1305 1306 1307 1308 1309 1310 1311 1312 1313 1314\n",
      " 1315 1316 1317 1318 1319 1320 1321 1322 1323 1324 1325 1326 1327 1328]\n",
      "[]\n",
      "[1063 1064 1065 ... 2655 2656 2657]\n",
      "[]\n",
      "[1063 1064 1065 ... 3984 3985 3986]\n",
      "[]\n",
      "[1063 1064 1065 ... 5313 5314 5315]\n",
      "[]\n",
      "[1063 1064 1065 ... 6645 6646 6647]\n"
     ]
    }
   ],
   "source": [
    "cv = FixedSizeKFold(n_splits = 5)\n",
    "for train_index, test_index in cv.split(X_res, y_res):\n",
    "    print(train_index)\n",
    "    print(test_index)"
   ]
  },
  {
   "cell_type": "code",
   "execution_count": 33,
   "id": "58f490e2-11ae-47d6-aa8e-b1aa61894af0",
   "metadata": {},
   "outputs": [
    {
     "name": "stdout",
     "output_type": "stream",
     "text": [
      "RF:\t0.5670844153272572\n",
      "SVC:\t0.5914213298483229\n"
     ]
    }
   ],
   "source": [
    "from sklearn.model_selection import cross_val_score, StratifiedKFold\n",
    "\n",
    "skf = StratifiedKFold(n_splits=5)\n",
    "\n",
    "scores = cross_val_score(rf, X_res, y_res, cv=skf)\n",
    "print(f\"RF:\\t{scores.mean()}\")\n",
    "\n",
    "scores = cross_val_score(svc, X_res, y_res, cv=skf)\n",
    "print(f\"SVC:\\t{scores.mean()}\")\n",
    "\n",
    "# scores = cross_val_score(lstm, X_res, y_res, cv=skf)\n",
    "# print(f\"LSTM:\\t{scores.mean()}\")"
   ]
  }
 ],
 "metadata": {
  "kernelspec": {
   "display_name": "predictive-maintenance",
   "language": "python",
   "name": "predictive-maintenance"
  },
  "language_info": {
   "codemirror_mode": {
    "name": "ipython",
    "version": 3
   },
   "file_extension": ".py",
   "mimetype": "text/x-python",
   "name": "python",
   "nbconvert_exporter": "python",
   "pygments_lexer": "ipython3",
   "version": "3.8.10"
  }
 },
 "nbformat": 4,
 "nbformat_minor": 5
}
