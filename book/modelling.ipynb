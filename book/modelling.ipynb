{
 "cells": [
  {
   "cell_type": "markdown",
   "id": "eb394079-72dd-4a23-95d6-2458c0b8ff2e",
   "metadata": {},
   "source": [
    "## Preprocessing"
   ]
  },
  {
   "cell_type": "code",
   "execution_count": 1,
   "id": "3170bf71-f435-422e-bfd3-4b0ec3cf3af5",
   "metadata": {},
   "outputs": [],
   "source": [
    "import pandas as pd\n",
    "df = pd.read_parquet('../data/dataset.parquet', engine='pyarrow')"
   ]
  },
  {
   "cell_type": "markdown",
   "id": "02fb645f-f3b9-410b-a6c8-b3f01e892032",
   "metadata": {},
   "source": [
    "Remove **time_to_failure** and **session_counter** and set **Timestamp** as the index."
   ]
  },
  {
   "cell_type": "code",
   "execution_count": 2,
   "id": "d7c575aa-f52d-44da-b738-daab356d3cf2",
   "metadata": {},
   "outputs": [],
   "source": [
    "df.drop(columns=['session_counter', 'time_to_failure'], inplace=True)\n",
    "df.set_index('Timestamp', inplace=True)"
   ]
  },
  {
   "cell_type": "markdown",
   "id": "84043d9c-b7f8-477e-ad1f-b9ac96e862b8",
   "metadata": {},
   "source": [
    "## Modelling"
   ]
  },
  {
   "cell_type": "code",
   "execution_count": 3,
   "id": "c845320a-d12b-49ef-ada4-ef7e3e9ce431",
   "metadata": {},
   "outputs": [
    {
     "name": "stdout",
     "output_type": "stream",
     "text": [
      "-> Label:\t(1,)\n",
      "\t['alert_11']\n",
      "-> Features:\t(13,)\n",
      "\t['Current speed cart [%]' 'Flag roping' 'Lifting motor speed [RPM]'\n",
      " 'Lifting speed rotation [M/MIN]' 'Platform Motor frequency [HZ]'\n",
      " 'Platform Position [°]' 'Platform motor speed [%]'\n",
      " 'Platform rotation speed [RPM]' 'Slave rotation speed [M/MIN]'\n",
      " 'Temperature hoist drive [°C]' 'Temperature platform drive [°C]'\n",
      " 'Temperature slave drive [°C]' 'Tensione totale film [%]']\n"
     ]
    }
   ],
   "source": [
    "import numpy as np\n",
    "\n",
    "label = np.array(['alert_11'])\n",
    "features = np.array(df.columns.difference(label))\n",
    "\n",
    "print(f\"-> Label:\\t{label.shape}\")\n",
    "print(f\"\\t{label}\")\n",
    "print(f\"-> Features:\\t{features.shape}\")\n",
    "print(f\"\\t{features}\")"
   ]
  },
  {
   "cell_type": "code",
   "execution_count": 4,
   "id": "2dafd5ec-e2c9-4fb2-ab54-fc0524ca8471",
   "metadata": {},
   "outputs": [
    {
     "name": "stdout",
     "output_type": "stream",
     "text": [
      "-> X:\t(679045, 13)\n",
      "-> y:\t(679045,)\n"
     ]
    }
   ],
   "source": [
    "X = df[features].to_numpy()\n",
    "y = df[label].to_numpy().flatten()\n",
    "\n",
    "print(f\"-> X:\\t{X.shape}\")\n",
    "print(f\"-> y:\\t{y.shape}\")"
   ]
  },
  {
   "cell_type": "markdown",
   "id": "a6d5589b-0878-4553-b99e-08d3d38547ef",
   "metadata": {},
   "source": [
    "## MTS Sliding Window"
   ]
  },
  {
   "cell_type": "code",
   "execution_count": 5,
   "id": "68da7208-a0b4-4e3b-a710-78a8508f66c1",
   "metadata": {},
   "outputs": [],
   "source": [
    "import numpy as np \n",
    "\n",
    "def window(X_data, y_data, width: int, shift: int):\n",
    "    \n",
    "    X_wins, y_wins = [], []\n",
    "\n",
    "    for index, (X, y) in enumerate(zip(X_data, y_data)):\n",
    "        if (index + width + shift) <= X_data.shape[0]:\n",
    "\n",
    "            window = slice((index + width), (index + width + shift))\n",
    "\n",
    "            X_wins.append(X_data[index: index + width])\n",
    "\n",
    "            y_values_shift = y_data[window]\n",
    "            y_wins.append(int(np.any(y_values_shift == 1)))\n",
    "\n",
    "    X_wins = np.array(X_wins)\n",
    "    y_wins = np.array(y_wins)\n",
    "    return X_wins.reshape(X_wins.shape[0], -1), y_wins.flatten()"
   ]
  },
  {
   "cell_type": "code",
   "execution_count": 6,
   "id": "0ce9a242-931d-4dd7-9739-7fc3ba4afd03",
   "metadata": {},
   "outputs": [],
   "source": [
    "X_wins, y_wins = window(X, y, width=120, shift=180)"
   ]
  },
  {
   "cell_type": "code",
   "execution_count": 7,
   "id": "3089d829-4c9b-4e99-8ec9-1f9331e20c81",
   "metadata": {},
   "outputs": [
    {
     "name": "stdout",
     "output_type": "stream",
     "text": [
      "-> X:\t(678746, 1560)\n",
      "-> y:\t(678746,)\n"
     ]
    }
   ],
   "source": [
    "print(f\"-> X:\\t{X_wins.shape}\")\n",
    "print(f\"-> y:\\t{y_wins.shape}\")"
   ]
  },
  {
   "cell_type": "markdown",
   "id": "3fb2be7c-b56c-46be-9034-642ca9347aab",
   "metadata": {},
   "source": [
    "## Undersampling"
   ]
  },
  {
   "cell_type": "code",
   "execution_count": 8,
   "id": "4de763c1-7541-47b6-a0b5-e39e6f063140",
   "metadata": {},
   "outputs": [],
   "source": [
    "from imblearn.under_sampling import RandomUnderSampler\n",
    "\n",
    "rus = RandomUnderSampler(random_state=0)\n",
    "\n",
    "X_res, y_res = rus.fit_resample(X_wins, y_wins)"
   ]
  },
  {
   "cell_type": "code",
   "execution_count": 9,
   "id": "46a12c77-4ef5-4e4a-92a9-79bbf208b72d",
   "metadata": {},
   "outputs": [],
   "source": [
    "classes, distribution = np.unique(y_res, return_counts=True)"
   ]
  },
  {
   "cell_type": "code",
   "execution_count": 10,
   "id": "21084b51-9fa6-4569-8640-768900046fbb",
   "metadata": {},
   "outputs": [
    {
     "name": "stdout",
     "output_type": "stream",
     "text": [
      "-> X_res:\t(6648, 1560)\n",
      "-> y_res:\t(6648,)\n"
     ]
    }
   ],
   "source": [
    "print(f\"-> X_res:\\t{X_res.shape}\")\n",
    "print(f\"-> y_res:\\t{y_res.shape}\")"
   ]
  },
  {
   "cell_type": "code",
   "execution_count": 11,
   "id": "335c2132-8ef2-4251-a01e-3b4963f4530c",
   "metadata": {},
   "outputs": [
    {
     "name": "stdout",
     "output_type": "stream",
     "text": [
      "-> 0:\t3324\n",
      "-> 1:\t3324\n"
     ]
    }
   ],
   "source": [
    "print(f\"-> {classes[0]}:\\t{distribution[0]}\")\n",
    "print(f\"-> {classes[1]}:\\t{distribution[1]}\")"
   ]
  },
  {
   "cell_type": "markdown",
   "id": "314391ab-5203-4385-8d90-d3b85b09b317",
   "metadata": {},
   "source": [
    "## Models"
   ]
  },
  {
   "cell_type": "markdown",
   "id": "185fbabf-8a85-4522-b78b-37013a72ab9d",
   "metadata": {},
   "source": [
    "Random Forest"
   ]
  },
  {
   "cell_type": "code",
   "execution_count": 12,
   "id": "f9c43d7d-20f8-43a4-a7cf-06bf3b211bd8",
   "metadata": {},
   "outputs": [],
   "source": [
    "from sklearn.ensemble import RandomForestClassifier\n",
    "\n",
    "rf = RandomForestClassifier(n_estimators=100, random_state=1234)"
   ]
  },
  {
   "cell_type": "markdown",
   "id": "51af53a7-f19a-41a6-99f7-f1c522c3a5e0",
   "metadata": {},
   "source": [
    "SVM (Support Vector Machine)."
   ]
  },
  {
   "cell_type": "code",
   "execution_count": 13,
   "id": "789e2b3c-d84c-4c94-a77f-85068c78f478",
   "metadata": {},
   "outputs": [],
   "source": [
    "from sklearn.svm import SVC\n",
    "\n",
    "svc = SVC(random_state=1234, C=1)"
   ]
  },
  {
   "cell_type": "markdown",
   "id": "6bc26acf-e630-46a8-bd57-a53af3fbafeb",
   "metadata": {},
   "source": [
    "LSTM (Long Short-Term Memory)"
   ]
  },
  {
   "cell_type": "code",
   "execution_count": null,
   "id": "44bb191a-cef2-4574-a90e-989d6d2ce90b",
   "metadata": {},
   "outputs": [],
   "source": [
    "X = df[features].to_numpy()\n",
    "y = df[label].to_numpy().flatten()\n",
    "\n",
    "X_wins, y_wins = window(X, y, width=120, shift=180)\n",
    "X_res, y_res = rus.fit_resample(X_wins, y_wins)\n",
    "\n",
    "train_size = int(1 - 0.3 * y_res.shape[0])\n",
    "X_train, X_test = np.array(X_res[0: train_size]), np.array(X_res[train_size:])\n",
    "y_train, y_test = y_res[0: train_size], y_res[train_size:]"
   ]
  },
  {
   "cell_type": "code",
   "execution_count": null,
   "id": "9bbffa08-369c-45cd-93aa-895e11a52e9e",
   "metadata": {},
   "outputs": [],
   "source": [
    "print(f\"-> X_train, X_test:\\t{X_train.shape}, {X_test.shape}\")\n",
    "print(f\"-> y_train, y_test:\\t{y_train.shape}, {y_test.shape}\")"
   ]
  },
  {
   "cell_type": "code",
   "execution_count": null,
   "id": "56165e7e-b62d-4461-90f0-59f3e1e63eb9",
   "metadata": {},
   "outputs": [],
   "source": [
    "import tensorflow as tf\n",
    "from tensorflow.keras.models import Sequential\n",
    "from tensorflow.keras.layers import LSTM, Dense\n",
    "\n",
    "\n",
    "model = Sequential()\n",
    "model.add(LSTM(units=128, return_sequences=True, input_shape=(X_train.shape[1], X_train.shape[2])))\n",
    "\n",
    "model.add(LSTM(units=64, return_sequences=True))\n",
    "model.add(LSTM(units=64, return_sequences=True))\n",
    "\n",
    "model.add(Dense(units=1))"
   ]
  },
  {
   "cell_type": "code",
   "execution_count": null,
   "id": "7d2f6c5f-a0aa-4269-adff-4ab537d01482",
   "metadata": {},
   "outputs": [],
   "source": [
    "model.compile(loss='mean_squared_error', optimizer='adam')"
   ]
  },
  {
   "cell_type": "code",
   "execution_count": null,
   "id": "cb461d1f-7e5e-45f9-add0-ff880f7ca933",
   "metadata": {},
   "outputs": [],
   "source": [
    "model.fit(X_train, y_train, epochs=100, batch_size=1, verbose=2)"
   ]
  },
  {
   "cell_type": "code",
   "execution_count": null,
   "id": "b241147a-47f2-4f40-904e-07cf97fa82c3",
   "metadata": {},
   "outputs": [],
   "source": [
    "trainScore = model.evaluate(X_train, y_train, verbose=0)\n",
    "print('Train Score: %.2f MSE (%.2f RMSE)' % (trainScore, math.sqrt(trainScore)))\n",
    "testScore = model.evaluate(X_test, y_test, verbose=0)\n",
    "print('Test Score: %.2f MSE (%.2f RMSE)' % (testScore, math.sqrt(testScore)))"
   ]
  },
  {
   "cell_type": "markdown",
   "id": "51be8bd1-597d-48fa-8be4-8c7a45e07d61",
   "metadata": {},
   "source": [
    "## K-Fold Cross Validation"
   ]
  },
  {
   "cell_type": "code",
   "execution_count": 33,
   "id": "58f490e2-11ae-47d6-aa8e-b1aa61894af0",
   "metadata": {},
   "outputs": [
    {
     "name": "stdout",
     "output_type": "stream",
     "text": [
      "RF:\t0.5670844153272572\n",
      "SVC:\t0.5914213298483229\n"
     ]
    }
   ],
   "source": [
    "from sklearn.model_selection import cross_val_score, StratifiedKFold\n",
    "\n",
    "skf = StratifiedKFold(n_splits=5)\n",
    "\n",
    "scores = cross_val_score(rf, X_res, y_res, cv=skf)\n",
    "print(f\"RF:\\t{scores.mean()}\")\n",
    "\n",
    "scores = cross_val_score(svc, X_res, y_res, cv=skf)\n",
    "print(f\"SVC:\\t{scores.mean()}\")\n",
    "\n",
    "# scores = cross_val_score(lstm, X_res, y_res, cv=skf)\n",
    "# print(f\"LSTM:\\t{scores.mean()}\")"
   ]
  }
 ],
 "metadata": {
  "kernelspec": {
   "display_name": "predictive-maintenance",
   "language": "python",
   "name": "predictive-maintenance"
  },
  "language_info": {
   "codemirror_mode": {
    "name": "ipython",
    "version": 3
   },
   "file_extension": ".py",
   "mimetype": "text/x-python",
   "name": "python",
   "nbconvert_exporter": "python",
   "pygments_lexer": "ipython3",
   "version": "3.8.10"
  }
 },
 "nbformat": 4,
 "nbformat_minor": 5
}
