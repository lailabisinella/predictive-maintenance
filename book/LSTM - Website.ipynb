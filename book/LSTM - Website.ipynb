{
 "cells": [
  {
   "cell_type": "markdown",
   "id": "bc67f84e-3d82-428f-889a-ff9f48186682",
   "metadata": {},
   "source": [
    "# LSTM for Website "
   ]
  },
  {
   "cell_type": "markdown",
   "id": "94823905-6b54-4b98-985f-15a08a069fc6",
   "metadata": {},
   "source": [
    "This notebook retrains the **best-performing model** identified in this study, which, in this case is the **LSTM** (see *Pre-processing & RF & SVM* and *Pre-processing & LSTM*) and saves it to then use it in the web implementation.\n",
    "The pipeline follows the same structure as the one used in the *Pre-processing & LSTM* notebook, with one key difference: the **dataset partitioning strategy**. Given that the primary objective of this implementation is to train the model to use it to compute predictive `alert_11` values, the dataset is divided into **two parts**:\n",
    "- **Training and Testing (80%)**: to train and evaluate the model’s performance;\n",
    "- **Prediction (20%)**: is left aside and will be used in the webpage backend to compare the predicted data with their ground values.\n",
    "\n",
    "This modified partitioning ensures that a dedicated portion of the dataset is reserved for the real-time predictions in the webpage, enusuring that the model predicts on data that it has never seen before."
   ]
  },
  {
   "cell_type": "markdown",
   "id": "9ab8bf49-77cd-455b-98cd-e5f4872752a6",
   "metadata": {},
   "source": [
    "Firstly, the **`os`** library is utilised to interact with the operating system. By setting the logging level to `2`, it filters out **INFO** and **WARNING** messages, allowing only **ERROR** messages to be displayed. This adjustment improves readability by ensuring that only critical issues are shown, making error messages clearer and easier to interpret."
   ]
  },
  {
   "cell_type": "code",
   "execution_count": 1,
   "id": "e1d0120d-dfc4-43a9-b7f6-16b5ff333fdf",
   "metadata": {},
   "outputs": [],
   "source": [
    "import os\n",
    "os.environ['TF_CPP_MIN_LOG_LEVEL'] = '2'"
   ]
  },
  {
   "cell_type": "markdown",
   "id": "da1224f1-f691-494e-86fc-f3d5e620662c",
   "metadata": {},
   "source": [
    "### Data loading"
   ]
  },
  {
   "cell_type": "code",
   "execution_count": 2,
   "id": "7e9fa05b-27d1-45fb-9a91-fdf1caeb7a19",
   "metadata": {},
   "outputs": [],
   "source": [
    "import pandas as pd\n",
    "\n",
    "df = pd.read_parquet('./../data/dataset.parquet', engine='pyarrow')"
   ]
  },
  {
   "cell_type": "code",
   "execution_count": 3,
   "id": "7353c15c-ef7f-43e3-a2af-efd0c7a08ca6",
   "metadata": {},
   "outputs": [
    {
     "data": {
      "text/plain": [
       "(679045, 17)"
      ]
     },
     "execution_count": 3,
     "metadata": {},
     "output_type": "execute_result"
    }
   ],
   "source": [
    "# Check the dataset has been imported correctly\n",
    "df.shape"
   ]
  },
  {
   "cell_type": "markdown",
   "id": "7b1fd09f-c920-4565-b0de-f3f0358b8c68",
   "metadata": {},
   "source": [
    "## Data partition"
   ]
  },
  {
   "cell_type": "code",
   "execution_count": 4,
   "id": "73522796-eb9a-4bd6-b126-5eb57eacc62e",
   "metadata": {},
   "outputs": [],
   "source": [
    "# Calculate the split point (80% of the data)\n",
    "split_point = int(len(df) * 0.8)"
   ]
  },
  {
   "cell_type": "code",
   "execution_count": 5,
   "id": "0685941c-0a81-4b61-aac7-712cbf5ed4a0",
   "metadata": {},
   "outputs": [],
   "source": [
    "# Split the DataFrame\n",
    "df_80 = df[:split_point]\n",
    "df_20 = df[split_point:]"
   ]
  },
  {
   "cell_type": "code",
   "execution_count": 6,
   "id": "b64dc599-6a34-43f3-9ad6-5876de40e23c",
   "metadata": {},
   "outputs": [
    {
     "data": {
      "image/png": "[encoded data removed]",
      "text/plain": [
       "<Figure size 1000x600 with 1 Axes>"
      ]
     },
     "metadata": {},
     "output_type": "display_data"
    }
   ],
   "source": [
    "# Plot to visualise the partition\n",
    "import matplotlib.pyplot as plt\n",
    "\n",
    "plt.figure(figsize=(10, 6))\n",
    "plt.plot(df_80['Timestamp'], [0] * len(df_80), label='80%')  \n",
    "plt.plot(df_20['Timestamp'], [1] * len(df_20), label='20%') \n",
    "plt.axvline(x=df_20['Timestamp'].iloc[0], color='red', linestyle='--', label='Split Point')\n",
    "\n",
    "plt.xlabel('Timestamp')\n",
    "plt.ylabel('Dataset Split') \n",
    "plt.title('Dataset Split over Time')\n",
    "plt.legend()\n",
    "plt.grid(True)\n",
    "plt.show()"
   ]
  },
  {
   "cell_type": "markdown",
   "id": "dcd62e52-3b20-4298-8d81-6d23f0e4f6dc",
   "metadata": {},
   "source": [
    "Verify that each split contains `1s` in the `alert_11` feature to ensure that the model has the chance to train and predict both `alert_11` values."
   ]
  },
  {
   "cell_type": "code",
   "execution_count": 7,
   "id": "341093d9-5ee3-453e-9a52-6c8a010e10c4",
   "metadata": {},
   "outputs": [
    {
     "name": "stdout",
     "output_type": "stream",
     "text": [
      "80% Dataset:\n",
      "Number of 0s in alert_11: 541860\n",
      "Number of 1s in alert_11: 1376\n",
      "\n",
      "20% Dataset:\n",
      "Number of 0s in alert_11: 135792\n",
      "Number of 1s in alert_11: 17\n"
     ]
    }
   ],
   "source": [
    "# Count 0s and 1s in 'alert_11' for each split\n",
    "def count_alerts(df, alert_column='alert_11'):\n",
    "    count_0 = (df[alert_column] == 0).sum()\n",
    "    count_1 = (df[alert_column] == 1).sum()\n",
    "    return count_0, count_1\n",
    "\n",
    "count_0_80, count_1_80 = count_alerts(df_80)\n",
    "count_0_20, count_1_20 = count_alerts(df_20)\n",
    "\n",
    "print(\"80% Dataset:\")\n",
    "print(f\"Number of 0s in alert_11: {count_0_80}\")\n",
    "print(f\"Number of 1s in alert_11: {count_1_80}\")\n",
    "\n",
    "print(\"\\n20% Dataset:\")\n",
    "print(f\"Number of 0s in alert_11: {count_0_20}\")\n",
    "print(f\"Number of 1s in alert_11: {count_1_20}\")"
   ]
  },
  {
   "cell_type": "markdown",
   "id": "8e79436b-c31f-496c-bbaf-11bc6fcedeaf",
   "metadata": {},
   "source": [
    "Now that the dataset has been partitioned, **`df_80`** will be assigned as **`df`**, ensuring that all model training and testing processes are conducted on this subset. This adjustment allows for the rest of the code to be the same as the one in *Pre-processing & LSTM*."
   ]
  },
  {
   "cell_type": "code",
   "execution_count": 8,
   "id": "6ac5fd10-4e4d-459c-be91-6bb1a95edf9f",
   "metadata": {},
   "outputs": [],
   "source": [
    "# Assign the 80% split to df \n",
    "df = df_80"
   ]
  },
  {
   "cell_type": "markdown",
   "id": "2c3dd7b1-1102-4800-a7b7-f4d7a30726ea",
   "metadata": {},
   "source": [
    "## Pre-processing steps"
   ]
  },
  {
   "cell_type": "markdown",
   "id": "8ddd5190-3d82-4630-b536-84fdd847bf85",
   "metadata": {},
   "source": [
    "### Data optimisation"
   ]
  },
  {
   "cell_type": "markdown",
   "id": "89ebbab5-3d75-40ea-91ba-8e4a439f470b",
   "metadata": {},
   "source": [
    "As implemented in the *Pre-processing & RF & SVM* and *Pre-processing & LSTM* notebooks, the `session_counter` and `time_to_failure` features are removed from the dataset, as they are not relevant to the classification task. Eliminating these features ensures that the model focuses solely on the meaningful variables that contribute to the prediction of `alert_11`."
   ]
  },
  {
   "cell_type": "code",
   "execution_count": 9,
   "id": "b5436ed1-b469-496d-8883-571be89ba616",
   "metadata": {},
   "outputs": [],
   "source": [
    "# Removing unnecessary columns\n",
    "df.drop(columns=['session_counter', 'time_to_failure'], inplace=True)"
   ]
  },
  {
   "cell_type": "code",
   "execution_count": 10,
   "id": "8e46dd79-2dea-4a53-9780-e2dd7d8df724",
   "metadata": {},
   "outputs": [
    {
     "data": {
      "text/html": [
       "<div>\n",
       "<style scoped>\n",
       "    .dataframe tbody tr th:only-of-type {\n",
       "        vertical-align: middle;\n",
       "    }\n",
       "\n",
       "    .dataframe tbody tr th {\n",
       "        vertical-align: top;\n",
       "    }\n",
       "\n",
       "    .dataframe thead th {\n",
       "        text-align: right;\n",
       "    }\n",
       "</style>\n",
       "<table border=\"1\" class=\"dataframe\">\n",
       "  <thead>\n",
       "    <tr style=\"text-align: right;\">\n",
       "      <th></th>\n",
       "      <th>Timestamp</th>\n",
       "      <th>Flag roping</th>\n",
       "      <th>Platform Position [°]</th>\n",
       "      <th>Platform Motor frequency [HZ]</th>\n",
       "      <th>Temperature platform drive [°C]</th>\n",
       "      <th>Temperature slave drive [°C]</th>\n",
       "      <th>Temperature hoist drive [°C]</th>\n",
       "      <th>Tensione totale film [%]</th>\n",
       "      <th>Current speed cart [%]</th>\n",
       "      <th>Platform motor speed [%]</th>\n",
       "      <th>Lifting motor speed [RPM]</th>\n",
       "      <th>Platform rotation speed [RPM]</th>\n",
       "      <th>Slave rotation speed [M/MIN]</th>\n",
       "      <th>Lifting speed rotation [M/MIN]</th>\n",
       "      <th>alert_11</th>\n",
       "    </tr>\n",
       "  </thead>\n",
       "  <tbody>\n",
       "    <tr>\n",
       "      <th>0</th>\n",
       "      <td>2021-06-07 04:14:30.742</td>\n",
       "      <td>31.0</td>\n",
       "      <td>115.0</td>\n",
       "      <td>5200.0</td>\n",
       "      <td>18.0</td>\n",
       "      <td>22.0</td>\n",
       "      <td>18.0</td>\n",
       "      <td>181.0</td>\n",
       "      <td>0.0</td>\n",
       "      <td>100.0</td>\n",
       "      <td>0.0</td>\n",
       "      <td>84.0</td>\n",
       "      <td>116.0</td>\n",
       "      <td>0.0</td>\n",
       "      <td>0.0</td>\n",
       "    </tr>\n",
       "    <tr>\n",
       "      <th>1</th>\n",
       "      <td>2021-06-07 04:14:35.742</td>\n",
       "      <td>31.0</td>\n",
       "      <td>115.0</td>\n",
       "      <td>5200.0</td>\n",
       "      <td>18.0</td>\n",
       "      <td>22.0</td>\n",
       "      <td>18.0</td>\n",
       "      <td>181.0</td>\n",
       "      <td>0.0</td>\n",
       "      <td>100.0</td>\n",
       "      <td>0.0</td>\n",
       "      <td>84.0</td>\n",
       "      <td>116.0</td>\n",
       "      <td>0.0</td>\n",
       "      <td>0.0</td>\n",
       "    </tr>\n",
       "    <tr>\n",
       "      <th>2</th>\n",
       "      <td>2021-06-07 04:14:40.742</td>\n",
       "      <td>31.0</td>\n",
       "      <td>115.0</td>\n",
       "      <td>5200.0</td>\n",
       "      <td>18.0</td>\n",
       "      <td>22.0</td>\n",
       "      <td>18.0</td>\n",
       "      <td>181.0</td>\n",
       "      <td>0.0</td>\n",
       "      <td>100.0</td>\n",
       "      <td>0.0</td>\n",
       "      <td>84.0</td>\n",
       "      <td>116.0</td>\n",
       "      <td>0.0</td>\n",
       "      <td>0.0</td>\n",
       "    </tr>\n",
       "    <tr>\n",
       "      <th>3</th>\n",
       "      <td>2021-06-07 04:14:45.742</td>\n",
       "      <td>31.0</td>\n",
       "      <td>115.0</td>\n",
       "      <td>5200.0</td>\n",
       "      <td>18.0</td>\n",
       "      <td>22.0</td>\n",
       "      <td>18.0</td>\n",
       "      <td>181.0</td>\n",
       "      <td>0.0</td>\n",
       "      <td>100.0</td>\n",
       "      <td>0.0</td>\n",
       "      <td>84.0</td>\n",
       "      <td>116.0</td>\n",
       "      <td>0.0</td>\n",
       "      <td>0.0</td>\n",
       "    </tr>\n",
       "    <tr>\n",
       "      <th>4</th>\n",
       "      <td>2021-06-07 04:14:50.742</td>\n",
       "      <td>31.0</td>\n",
       "      <td>115.0</td>\n",
       "      <td>5200.0</td>\n",
       "      <td>18.0</td>\n",
       "      <td>22.0</td>\n",
       "      <td>18.0</td>\n",
       "      <td>181.0</td>\n",
       "      <td>0.0</td>\n",
       "      <td>100.0</td>\n",
       "      <td>0.0</td>\n",
       "      <td>84.0</td>\n",
       "      <td>116.0</td>\n",
       "      <td>0.0</td>\n",
       "      <td>0.0</td>\n",
       "    </tr>\n",
       "  </tbody>\n",
       "</table>\n",
       "</div>"
      ],
      "text/plain": [
       "                Timestamp  Flag roping  Platform Position [°]  \\\n",
       "0 2021-06-07 04:14:30.742         31.0                  115.0   \n",
       "1 2021-06-07 04:14:35.742         31.0                  115.0   \n",
       "2 2021-06-07 04:14:40.742         31.0                  115.0   \n",
       "3 2021-06-07 04:14:45.742         31.0                  115.0   \n",
       "4 2021-06-07 04:14:50.742         31.0                  115.0   \n",
       "\n",
       "   Platform Motor frequency [HZ]  Temperature platform drive [°C]  \\\n",
       "0                         5200.0                             18.0   \n",
       "1                         5200.0                             18.0   \n",
       "2                         5200.0                             18.0   \n",
       "3                         5200.0                             18.0   \n",
       "4                         5200.0                             18.0   \n",
       "\n",
       "   Temperature slave drive [°C]  Temperature hoist drive [°C]  \\\n",
       "0                          22.0                          18.0   \n",
       "1                          22.0                          18.0   \n",
       "2                          22.0                          18.0   \n",
       "3                          22.0                          18.0   \n",
       "4                          22.0                          18.0   \n",
       "\n",
       "   Tensione totale film [%]  Current speed cart [%]  Platform motor speed [%]  \\\n",
       "0                     181.0                     0.0                     100.0   \n",
       "1                     181.0                     0.0                     100.0   \n",
       "2                     181.0                     0.0                     100.0   \n",
       "3                     181.0                     0.0                     100.0   \n",
       "4                     181.0                     0.0                     100.0   \n",
       "\n",
       "   Lifting motor speed [RPM]  Platform rotation speed [RPM]  \\\n",
       "0                        0.0                           84.0   \n",
       "1                        0.0                           84.0   \n",
       "2                        0.0                           84.0   \n",
       "3                        0.0                           84.0   \n",
       "4                        0.0                           84.0   \n",
       "\n",
       "   Slave rotation speed [M/MIN]  Lifting speed rotation [M/MIN]  alert_11  \n",
       "0                         116.0                             0.0       0.0  \n",
       "1                         116.0                             0.0       0.0  \n",
       "2                         116.0                             0.0       0.0  \n",
       "3                         116.0                             0.0       0.0  \n",
       "4                         116.0                             0.0       0.0  "
      ]
     },
     "execution_count": 10,
     "metadata": {},
     "output_type": "execute_result"
    }
   ],
   "source": [
    "# Display the dataset to ensure the columns have been removed\n",
    "df.head()"
   ]
  },
  {
   "cell_type": "markdown",
   "id": "b05f0d5c-e478-49cc-a815-1e03eebedd25",
   "metadata": {},
   "source": [
    "As is common in most time-series datasets, the `Timestamp` column is set as the index of the dataset. This allows for efficient time-based operations, such as resampling, sliding window calculations, and trend analysis, while preserving the chronological structure of the data."
   ]
  },
  {
   "cell_type": "code",
   "execution_count": 11,
   "id": "fb336db6-4aec-411b-8d7f-eb7ddb252fb4",
   "metadata": {},
   "outputs": [],
   "source": [
    "# Setting Timestamp as index\n",
    "df.set_index('Timestamp', inplace=True)"
   ]
  },
  {
   "cell_type": "code",
   "execution_count": 12,
   "id": "956cdb6f-b75b-462a-9b91-b1fa7f568584",
   "metadata": {},
   "outputs": [
    {
     "data": {
      "text/plain": [
       "'Timestamp'"
      ]
     },
     "execution_count": 12,
     "metadata": {},
     "output_type": "execute_result"
    }
   ],
   "source": [
    "# Check if Timestamp has become the index of the dataset\n",
    "df.index.name"
   ]
  },
  {
   "cell_type": "markdown",
   "id": "442104c0-42af-4add-8a93-68e77e807265",
   "metadata": {},
   "source": [
    "### Feature extraction"
   ]
  },
  {
   "cell_type": "markdown",
   "id": "ee8227ee-42d1-44e3-9c2c-e071bc0626b9",
   "metadata": {},
   "source": [
    "In this section, the label `y` and the features `X` for the models are defined, with `alert_11` serving as the target variable (`y`) and all other columns being designated as features (`X`). This decision is based on the fact that `alert_11` represents the primary event of interest, aligning with the original study’s objective. By including all other columns as features, the model can leverage the full range of available data to identify patterns and relationships that may contribute to predicting `alert_11`."
   ]
  },
  {
   "cell_type": "code",
   "execution_count": 13,
   "id": "71ac0465-1f8c-412e-894c-c9622044a8b1",
   "metadata": {},
   "outputs": [
    {
     "name": "stdout",
     "output_type": "stream",
     "text": [
      "-> Label (shape=(1,)): ['alert_11']\n",
      "-> Features (shape=(13,)): ['Current speed cart [%]' 'Flag roping' 'Lifting motor speed [RPM]'\n",
      " 'Lifting speed rotation [M/MIN]' 'Platform Motor frequency [HZ]'\n",
      " 'Platform Position [°]' 'Platform motor speed [%]'\n",
      " 'Platform rotation speed [RPM]' 'Slave rotation speed [M/MIN]'\n",
      " 'Temperature hoist drive [°C]' 'Temperature platform drive [°C]'\n",
      " 'Temperature slave drive [°C]' 'Tensione totale film [%]']\n"
     ]
    }
   ],
   "source": [
    "# State the label and the features\n",
    "import numpy as np\n",
    "\n",
    "label = np.array(['alert_11'])\n",
    "features = np.array(df.columns.difference(label))\n",
    "\n",
    "print(f\"-> Label (shape={label.shape}): {label}\")\n",
    "print(f\"-> Features (shape={features.shape}): {features}\")"
   ]
  },
  {
   "cell_type": "code",
   "execution_count": 14,
   "id": "56cf9f3d-48ea-4356-b4ab-31f19c34ff84",
   "metadata": {},
   "outputs": [
    {
     "name": "stdout",
     "output_type": "stream",
     "text": [
      "-> X (shape=(543236, 13))\n",
      "-> y (shape=(543236, 1))\n"
     ]
    }
   ],
   "source": [
    "# Extract and assign the label and the features, X and y\n",
    "X = df[features]\n",
    "y = df[label]\n",
    "\n",
    "print(f\"-> X (shape={X.shape})\")\n",
    "print(f\"-> y (shape={y.shape})\")"
   ]
  },
  {
   "cell_type": "markdown",
   "id": "b0345dd7-e68c-4a9e-891b-8cd4c81afb55",
   "metadata": {},
   "source": [
    "### Sliding window"
   ]
  },
  {
   "cell_type": "markdown",
   "id": "1bcd83a4-0747-4af6-9b45-158f3729527f",
   "metadata": {},
   "source": [
    "Creating sliding windows as a pre-processing step is essential for capturing temporal dependencies in the dataset, allowing the model to analyse sequences of past sensor readings rather than isolated time points. \n",
    "Since machine failures and alerts often develop gradually, a single timestamp may not provide enough context for accurate predictions. However, by structuring the data into overlapping time windows, the model can learn meaningful trends and relationships that contribute to the occurrence of `alert_11`. \n",
    "This approach mimics real-world decision-making, where operators and automated systems consider historical data before identifying potential issues. \n",
    "Additionally, sliding windows help handle lag effects, ensuring that early warning signs (such as changes in temperature, speed, or vibrations) are accounted for. Furthermore, this method prevents data leakage by ensuring that predictions rely only on past information, making the model more robust for real-world deployment."
   ]
  },
  {
   "cell_type": "code",
   "execution_count": 15,
   "id": "ab045f75-26b5-4bfb-a6f6-5c8fec46a615",
   "metadata": {},
   "outputs": [],
   "source": [
    "# Prepare the label and features for the window\n",
    "X = X.to_numpy()\n",
    "y = y.to_numpy().flatten()"
   ]
  },
  {
   "cell_type": "code",
   "execution_count": 16,
   "id": "0384eb8c-8b36-4f4c-a6e0-1ffe3d7fbf14",
   "metadata": {},
   "outputs": [],
   "source": [
    "# Create the window\n",
    "import numpy as np  # Import NumPy for array manipulation\n",
    "\n",
    "x_wins_shape = None  # Placeholder to store the shape of the final X_wins \n",
    "\n",
    "# Function to create sliding windows of features and corresponding labels\n",
    "def window(X_data, y_data, width: int, shift: int):\n",
    "\n",
    "    X_wins, y_wins = [], []  # Initialise lists to hold windowed inputs and labels\n",
    "\n",
    "    # Iterate over all samples by index\n",
    "    for index, (X, y) in enumerate(zip(X_data, y_data)):\n",
    "\n",
    "        # Make sure the window (width + shift) does not exceed dataset bounds\n",
    "        if (index + width + shift) <= X_data.shape[0]:\n",
    "\n",
    "            # Define the target label slice (after the input window, for future prediction)\n",
    "            window = slice((index + width), (index + width + shift))\n",
    "\n",
    "            # Collect the feature window of specified width\n",
    "            X_wins.append(X_data[index: index + width])\n",
    "\n",
    "            # Get the corresponding labels in the future window\n",
    "            y_values_shift = y_data[window]\n",
    "\n",
    "            # Label the input window as 1 if any future label is 1 (breakdown happens)\n",
    "            y_wins.append(int(np.any(y_values_shift == 1)))\n",
    "\n",
    "    # Convert lists to NumPy arrays\n",
    "    X_wins = np.array(X_wins)\n",
    "    x_wins_shape = X_wins.shape  # Save the shape for reference or debugging\n",
    "\n",
    "    y_wins = np.array(y_wins)\n",
    "\n",
    "    # Reshape input to 2D (flattened windows) and ensure y is 1D\n",
    "    return X_wins.reshape(X_wins.shape[0], -1), y_wins.flatten()"
   ]
  },
  {
   "cell_type": "code",
   "execution_count": 17,
   "id": "dc5fae7c-f539-4bd5-aef0-6718fe74d869",
   "metadata": {},
   "outputs": [],
   "source": [
    "# State the variables and the size of the window\n",
    "X_wins, y_wins = window(X, y, width=120, shift=180)"
   ]
  },
  {
   "cell_type": "markdown",
   "id": "3e4b28ba-7af1-4212-aaa3-f5ee45551e12",
   "metadata": {},
   "source": [
    "### Random Under Sampler (RUS)"
   ]
  },
  {
   "cell_type": "markdown",
   "id": "cc9d156e-d5ea-450c-af75-ac76a164400a",
   "metadata": {},
   "source": [
    "As stated in the paper:  \n",
    "\n",
    "> Alerts are anomalies and thus, by definition, rarer than normal behaviors.  \n",
    "\n",
    "This observation is supported by the exploratory data analysis (EDA) conducted in this study, which confirms that the dataset is highly imbalanced. Specifically, `alert_11` consists of **677,652 instances of 0s** and only **1,393 instances of 1s**, corresponding to **99.8%** and **0.2%** of the dataset, respectively.  \n",
    "\n",
    "This class imbalance issue was also acknowledged in the paper. Given that our study shares the same objective, **Random Under-Sampling (RUS)** is considered an appropriate method for balancing the dataset. As described in the paper:  \n",
    "\n",
    "> The algorithm (RUS) randomly selects and removes observations from the majority class until it achieves the desired equilibrium between the two classes. In the case of the wrapping machine, RUS is applied separately on each train set (comprising 4 folds) and test set (1 fold) for each combination of RW and PW sizes, to prevent the presence of similar data in the train and test sets (i.e., partially overlapping data).  \n",
    "\n",
    "By employing RUS to the **sliding window** data, we ensure that the models are trained on a more balanced dataset, reducing the bias toward the majority class (`alert_11 = 0`) and improving its ability to correctly predict rare alert occurrences."
   ]
  },
  {
   "cell_type": "code",
   "execution_count": 26,
   "id": "901edf81-bf8c-4489-a6aa-f2a616df92dc",
   "metadata": {},
   "outputs": [
    {
     "name": "stdout",
     "output_type": "stream",
     "text": [
      "(6256, 1, 1560)\n",
      "(array([0, 1]), array([3128, 3128]))\n"
     ]
    }
   ],
   "source": [
    "from imblearn.under_sampling import RandomUnderSampler\n",
    "\n",
    "rus = RandomUnderSampler(random_state=0)\n",
    "\n",
    "X_res, y_res = rus.fit_resample(X_wins, y_wins)\n",
    "X_res = X_res.reshape(X_res.shape[0], 1, X_res.shape[1]) # Generates 1 empty array in the middle to have a 3D array\n",
    "print(X_res.shape)\n",
    "print(np.unique(y_res, return_counts=True))"
   ]
  },
  {
   "cell_type": "markdown",
   "id": "95e6474f-858e-4981-81a4-39291f9814be",
   "metadata": {},
   "source": [
    "After applying Random Under-Sampling (RUS), it is not usually expected that the number of positive cases (1s) would exceed what was originally present in the raw dataset (1,393). However, in this case, the result is correct because the windowing process alters the distribution of labels. \n",
    "\n",
    "Initially, the dataset contained **677,652 instances of 0** and only **1,393 instances of 1** for the `alert_11` feature. However, when the **windowing function** is applied, each window is labelled as 1 if any future value within the shift period is 1. As a result, a single occurrence of 1 in the original data can lead to multiple windows being labelled as 1. Therefore, after windowing, the number of windows labelled as 1 becomes much larger than the original 1,393. \n",
    "\n",
    "**Random Under-Sampling** then balances the two classes by reducing the majority class (0) down to match the number of minority instances (1) found after windowing, without creating any new 1s. This is why there is a result of 3,328 instances for both 0 and 1 after resampling."
   ]
  },
  {
   "cell_type": "markdown",
   "id": "a4b84113-57ce-4a66-ae5d-fa7a07553994",
   "metadata": {},
   "source": [
    "## Modelling"
   ]
  },
  {
   "cell_type": "markdown",
   "id": "920a0a83-0716-4412-9c86-48d5cdc1db2f",
   "metadata": {},
   "source": [
    "### Long Short-Term Memeory (LSTM) "
   ]
  },
  {
   "cell_type": "code",
   "execution_count": 19,
   "id": "1e39cb9d-ae3f-4b9e-9bac-605687b11083",
   "metadata": {},
   "outputs": [],
   "source": [
    "# Perform 5-fold-cross-validation\n",
    "from sklearn.model_selection import StratifiedKFold\n",
    "\n",
    "kf = StratifiedKFold(n_splits=5, shuffle=True, random_state=42)"
   ]
  },
  {
   "cell_type": "code",
   "execution_count": 20,
   "id": "a3da31b6-fd08-49b5-89aa-ca8b93628d3c",
   "metadata": {},
   "outputs": [],
   "source": [
    "# Store metrics and predictions\n",
    "all_y_true = []\n",
    "all_y_pred = []\n",
    "fold_metrics = []"
   ]
  },
  {
   "cell_type": "code",
   "execution_count": 21,
   "id": "d6600278-96e0-40bc-aeef-60709870145b",
   "metadata": {},
   "outputs": [
    {
     "name": "stdout",
     "output_type": "stream",
     "text": [
      "40/40 [==============================] - 1s 3ms/step\n",
      "40/40 [==============================] - 1s 3ms/step\n",
      "40/40 [==============================] - 1s 3ms/step\n",
      "40/40 [==============================] - 1s 3ms/step\n",
      "40/40 [==============================] - 1s 3ms/step\n"
     ]
    }
   ],
   "source": [
    "import tensorflow as tf\n",
    "from tensorflow.keras.models import Sequential\n",
    "from tensorflow.keras.layers import LSTM, Bidirectional, BatchNormalization, Dense, Dropout\n",
    "from tensorflow.keras.regularizers import L2\n",
    "from tensorflow.keras.callbacks import EarlyStopping\n",
    "from tensorflow.keras.metrics import Precision, Recall\n",
    "from sklearn.metrics import classification_report, confusion_matrix, accuracy_score, precision_score, recall_score, f1_score\n",
    "import matplotlib.pyplot as plt\n",
    "import seaborn as sns\n",
    "import pandas as pd\n",
    "import numpy as np\n",
    "\n",
    "\n",
    "# Cross-validation loop\n",
    "for fold, (train_idx, val_idx) in enumerate(kf.split(X_res, y_res)):\n",
    "\n",
    "    # Split data\n",
    "    X_train, X_val = X_res[train_idx], X_res[val_idx]\n",
    "    y_train, y_val = y_res[train_idx], y_res[val_idx]\n",
    "\n",
    "    # Define the model\n",
    "    model = Sequential([\n",
    "        Bidirectional(LSTM(128, return_sequences=True, kernel_regularizer=L2(0.001)), input_shape=(X_train.shape[1], X_train.shape[2])),\n",
    "        BatchNormalization(),\n",
    "        Bidirectional(LSTM(64, return_sequences=True, kernel_regularizer=L2(0.001))),\n",
    "        BatchNormalization(),\n",
    "        Bidirectional(LSTM(128, return_sequences=False, kernel_regularizer=L2(0.001))),\n",
    "        BatchNormalization(),\n",
    "        Dense(64, activation=\"relu\", kernel_regularizer=L2(0.001)),\n",
    "        Dropout(0.3),\n",
    "        Dense(32, activation=\"relu\", kernel_regularizer=L2(0.001)),\n",
    "        Dense(1, activation=\"sigmoid\")\n",
    "    ])\n",
    "\n",
    "    model.compile(\n",
    "        loss='binary_crossentropy',\n",
    "        optimizer='adam',\n",
    "        metrics=['accuracy', Precision(), Recall()]\n",
    "    )\n",
    "\n",
    "    early_stop = EarlyStopping(monitor='val_loss', patience=5, restore_best_weights=True)\n",
    "    model.fit(\n",
    "        X_train, y_train,\n",
    "        epochs=10,\n",
    "        batch_size=32,\n",
    "        validation_data=(X_val, y_val),\n",
    "        callbacks=[early_stop],\n",
    "        verbose=0\n",
    "    )\n",
    "\n",
    "    # Predict on validation data\n",
    "    y_pred_probs = model.predict(X_val)\n",
    "    y_pred = (y_pred_probs >= 0.5).astype(int).flatten()\n",
    "\n",
    "    # Append to full lists for final global evaluation\n",
    "    all_y_true.extend(y_val)\n",
    "    all_y_pred.extend(y_pred)\n",
    "\n",
    "    # Metrics for current fold\n",
    "    acc = accuracy_score(y_val, y_pred)\n",
    "    prec = precision_score(y_val, y_pred)\n",
    "    rec = recall_score(y_val, y_pred)\n",
    "    f1 = f1_score(y_val, y_pred)\n",
    "    fold_metrics.append({\n",
    "        'accuracy': acc,\n",
    "        'precision': prec,\n",
    "        'recall': rec,\n",
    "        'f1_score': f1\n",
    "    })"
   ]
  },
  {
   "cell_type": "code",
   "execution_count": 22,
   "id": "29ff5c93-abda-42b8-96e7-0afb11d5754c",
   "metadata": {},
   "outputs": [],
   "source": [
    "# Compute mean metrics across all folds\n",
    "metrics_df = pd.DataFrame(fold_metrics)\n",
    "mean_metrics = metrics_df.mean(numeric_only=True)"
   ]
  },
  {
   "cell_type": "code",
   "execution_count": 23,
   "id": "7f811ad0-f8e2-4181-9067-2bb278640a03",
   "metadata": {},
   "outputs": [
    {
     "name": "stdout",
     "output_type": "stream",
     "text": [
      "Mean of Metrics across 5 folds:\n",
      "accuracy     0.742326\n",
      "precision    0.858836\n",
      "recall       0.580259\n",
      "f1_score     0.691956\n",
      "dtype: float64\n"
     ]
    }
   ],
   "source": [
    "# Compute mean metrics across all folds\n",
    "print(\"Mean of Metrics across 5 folds:\")\n",
    "print(mean_metrics)"
   ]
  },
  {
   "cell_type": "code",
   "execution_count": 24,
   "id": "42a9b37d-e8e8-4956-8417-60b5af24b2c7",
   "metadata": {},
   "outputs": [
    {
     "name": "stdout",
     "output_type": "stream",
     "text": [
      "Classification Report (based on cross-validated predictions):\n",
      "              precision    recall  f1-score   support\n",
      "\n",
      "           0     0.6830    0.9044    0.7783      3128\n",
      "           1     0.8586    0.5802    0.6925      3128\n",
      "\n",
      "    accuracy                         0.7423      6256\n",
      "   macro avg     0.7708    0.7423    0.7354      6256\n",
      "weighted avg     0.7708    0.7423    0.7354      6256\n",
      "\n"
     ]
    }
   ],
   "source": [
    "# Generate final classification report\n",
    "print(\"Classification Report (based on cross-validated predictions):\")\n",
    "print(classification_report(all_y_true, all_y_pred, digits=4))"
   ]
  },
  {
   "cell_type": "markdown",
   "id": "ef2b11e1-a7a1-42a5-b2f3-fad46d421646",
   "metadata": {},
   "source": [
    "### Save model"
   ]
  },
  {
   "cell_type": "markdown",
   "id": "217b102a-5955-4a4e-9105-1e5061cb461c",
   "metadata": {},
   "source": [
    "Saving the model to use it in the back-end of the webapage to predict future data on the remaining 20% of the dataset."
   ]
  },
  {
   "cell_type": "code",
   "execution_count": 25,
   "id": "2c28acb2-67fe-4ab4-9dcb-f94326af914a",
   "metadata": {},
   "outputs": [],
   "source": [
    "# model.save(\"lstm_model.h5\")  # Save in HDF5 format"
   ]
  }
 ],
 "metadata": {
  "kernelspec": {
   "display_name": "predictive-maintenance",
   "language": "python",
   "name": "predictive-maintenance"
  },
  "language_info": {
   "codemirror_mode": {
    "name": "ipython",
    "version": 3
   },
   "file_extension": ".py",
   "mimetype": "text/x-python",
   "name": "python",
   "nbconvert_exporter": "python",
   "pygments_lexer": "ipython3",
   "version": "3.8.10"
  }
 },
 "nbformat": 4,
 "nbformat_minor": 5
}
