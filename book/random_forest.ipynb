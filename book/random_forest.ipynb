{
 "cells": [
  {
   "cell_type": "markdown",
   "id": "eb394079-72dd-4a23-95d6-2458c0b8ff2e",
   "metadata": {},
   "source": [
    "## Preprocessing"
   ]
  },
  {
   "cell_type": "code",
   "execution_count": 1,
   "id": "3170bf71-f435-422e-bfd3-4b0ec3cf3af5",
   "metadata": {},
   "outputs": [],
   "source": [
    "import pandas as pd\n",
    "\n",
    "df = pd.read_parquet('../data/dataset.parquet', engine='pyarrow')"
   ]
  },
  {
   "cell_type": "markdown",
   "id": "02fb645f-f3b9-410b-a6c8-b3f01e892032",
   "metadata": {},
   "source": [
    "Remove **time_to_failure** and **session_counter** and set **Timestamp** as the index."
   ]
  },
  {
   "cell_type": "code",
   "execution_count": 2,
   "id": "d7c575aa-f52d-44da-b738-daab356d3cf2",
   "metadata": {},
   "outputs": [],
   "source": [
    "df.drop(columns=['session_counter', 'time_to_failure'], inplace=True)\n",
    "df.set_index('Timestamp', inplace=True)"
   ]
  },
  {
   "cell_type": "code",
   "execution_count": 3,
   "id": "ed8a6692-e64b-4aff-be87-dcaafcf420f6",
   "metadata": {},
   "outputs": [
    {
     "name": "stdout",
     "output_type": "stream",
     "text": [
      "<class 'pandas.core.frame.DataFrame'>\n",
      "DatetimeIndex: 679045 entries, 2021-06-07 04:14:30.742000 to 2022-05-30 17:50:43.374000\n",
      "Data columns (total 14 columns):\n",
      " #   Column                           Non-Null Count   Dtype  \n",
      "---  ------                           --------------   -----  \n",
      " 0   Flag roping                      679045 non-null  float64\n",
      " 1   Platform Position [°]            679045 non-null  float64\n",
      " 2   Platform Motor frequency [HZ]    679045 non-null  float64\n",
      " 3   Temperature platform drive [°C]  679045 non-null  float64\n",
      " 4   Temperature slave drive [°C]     679045 non-null  float64\n",
      " 5   Temperature hoist drive [°C]     679045 non-null  float64\n",
      " 6   Tensione totale film [%]         679045 non-null  float64\n",
      " 7   Current speed cart [%]           679045 non-null  float64\n",
      " 8   Platform motor speed [%]         679045 non-null  float64\n",
      " 9   Lifting motor speed [RPM]        679045 non-null  float64\n",
      " 10  Platform rotation speed [RPM]    679045 non-null  float64\n",
      " 11  Slave rotation speed [M/MIN]     679045 non-null  float64\n",
      " 12  Lifting speed rotation [M/MIN]   679045 non-null  float64\n",
      " 13  alert_11                         679045 non-null  float64\n",
      "dtypes: float64(14)\n",
      "memory usage: 77.7 MB\n"
     ]
    },
    {
     "data": {
      "text/html": [
       "<div>\n",
       "<style scoped>\n",
       "    .dataframe tbody tr th:only-of-type {\n",
       "        vertical-align: middle;\n",
       "    }\n",
       "\n",
       "    .dataframe tbody tr th {\n",
       "        vertical-align: top;\n",
       "    }\n",
       "\n",
       "    .dataframe thead th {\n",
       "        text-align: right;\n",
       "    }\n",
       "</style>\n",
       "<table border=\"1\" class=\"dataframe\">\n",
       "  <thead>\n",
       "    <tr style=\"text-align: right;\">\n",
       "      <th></th>\n",
       "      <th>Flag roping</th>\n",
       "      <th>Platform Position [°]</th>\n",
       "      <th>Platform Motor frequency [HZ]</th>\n",
       "      <th>Temperature platform drive [°C]</th>\n",
       "      <th>Temperature slave drive [°C]</th>\n",
       "      <th>Temperature hoist drive [°C]</th>\n",
       "      <th>Tensione totale film [%]</th>\n",
       "      <th>Current speed cart [%]</th>\n",
       "      <th>Platform motor speed [%]</th>\n",
       "      <th>Lifting motor speed [RPM]</th>\n",
       "      <th>Platform rotation speed [RPM]</th>\n",
       "      <th>Slave rotation speed [M/MIN]</th>\n",
       "      <th>Lifting speed rotation [M/MIN]</th>\n",
       "      <th>alert_11</th>\n",
       "    </tr>\n",
       "  </thead>\n",
       "  <tbody>\n",
       "    <tr>\n",
       "      <th>count</th>\n",
       "      <td>679045.000000</td>\n",
       "      <td>679045.000000</td>\n",
       "      <td>679045.000000</td>\n",
       "      <td>679045.000000</td>\n",
       "      <td>679045.000000</td>\n",
       "      <td>679045.000000</td>\n",
       "      <td>679045.000000</td>\n",
       "      <td>679045.000000</td>\n",
       "      <td>679045.000000</td>\n",
       "      <td>679045.000000</td>\n",
       "      <td>679045.000000</td>\n",
       "      <td>679045.000000</td>\n",
       "      <td>679045.000000</td>\n",
       "      <td>679045.000000</td>\n",
       "    </tr>\n",
       "    <tr>\n",
       "      <th>mean</th>\n",
       "      <td>30.999361</td>\n",
       "      <td>163.937436</td>\n",
       "      <td>694.531602</td>\n",
       "      <td>23.766837</td>\n",
       "      <td>23.444327</td>\n",
       "      <td>21.303289</td>\n",
       "      <td>165.357471</td>\n",
       "      <td>2.150718</td>\n",
       "      <td>13.383201</td>\n",
       "      <td>116.676833</td>\n",
       "      <td>10.785796</td>\n",
       "      <td>11.759514</td>\n",
       "      <td>0.933471</td>\n",
       "      <td>0.002051</td>\n",
       "    </tr>\n",
       "    <tr>\n",
       "      <th>std</th>\n",
       "      <td>0.140758</td>\n",
       "      <td>111.206953</td>\n",
       "      <td>1578.580228</td>\n",
       "      <td>11.435006</td>\n",
       "      <td>9.969298</td>\n",
       "      <td>9.974128</td>\n",
       "      <td>211.047433</td>\n",
       "      <td>12.512806</td>\n",
       "      <td>30.393794</td>\n",
       "      <td>685.563601</td>\n",
       "      <td>25.029436</td>\n",
       "      <td>32.598768</td>\n",
       "      <td>5.634515</td>\n",
       "      <td>0.045246</td>\n",
       "    </tr>\n",
       "    <tr>\n",
       "      <th>min</th>\n",
       "      <td>0.000000</td>\n",
       "      <td>0.000000</td>\n",
       "      <td>0.000000</td>\n",
       "      <td>0.000000</td>\n",
       "      <td>0.000000</td>\n",
       "      <td>0.000000</td>\n",
       "      <td>-100.000000</td>\n",
       "      <td>0.000000</td>\n",
       "      <td>0.000000</td>\n",
       "      <td>0.000000</td>\n",
       "      <td>0.000000</td>\n",
       "      <td>0.000000</td>\n",
       "      <td>0.000000</td>\n",
       "      <td>0.000000</td>\n",
       "    </tr>\n",
       "    <tr>\n",
       "      <th>25%</th>\n",
       "      <td>31.000000</td>\n",
       "      <td>62.000000</td>\n",
       "      <td>0.000000</td>\n",
       "      <td>15.000000</td>\n",
       "      <td>16.000000</td>\n",
       "      <td>13.000000</td>\n",
       "      <td>144.000000</td>\n",
       "      <td>0.000000</td>\n",
       "      <td>0.000000</td>\n",
       "      <td>0.000000</td>\n",
       "      <td>0.000000</td>\n",
       "      <td>0.000000</td>\n",
       "      <td>0.000000</td>\n",
       "      <td>0.000000</td>\n",
       "    </tr>\n",
       "    <tr>\n",
       "      <th>50%</th>\n",
       "      <td>31.000000</td>\n",
       "      <td>165.000000</td>\n",
       "      <td>0.000000</td>\n",
       "      <td>22.000000</td>\n",
       "      <td>22.000000</td>\n",
       "      <td>19.000000</td>\n",
       "      <td>179.000000</td>\n",
       "      <td>0.000000</td>\n",
       "      <td>0.000000</td>\n",
       "      <td>0.000000</td>\n",
       "      <td>0.000000</td>\n",
       "      <td>0.000000</td>\n",
       "      <td>0.000000</td>\n",
       "      <td>0.000000</td>\n",
       "    </tr>\n",
       "    <tr>\n",
       "      <th>75%</th>\n",
       "      <td>31.000000</td>\n",
       "      <td>260.000000</td>\n",
       "      <td>0.000000</td>\n",
       "      <td>32.000000</td>\n",
       "      <td>30.000000</td>\n",
       "      <td>28.000000</td>\n",
       "      <td>201.000000</td>\n",
       "      <td>0.000000</td>\n",
       "      <td>0.000000</td>\n",
       "      <td>0.000000</td>\n",
       "      <td>0.000000</td>\n",
       "      <td>0.000000</td>\n",
       "      <td>0.000000</td>\n",
       "      <td>0.000000</td>\n",
       "    </tr>\n",
       "    <tr>\n",
       "      <th>max</th>\n",
       "      <td>31.000000</td>\n",
       "      <td>359.000000</td>\n",
       "      <td>5200.000000</td>\n",
       "      <td>61.000000</td>\n",
       "      <td>55.000000</td>\n",
       "      <td>55.000000</td>\n",
       "      <td>9900.000000</td>\n",
       "      <td>100.000000</td>\n",
       "      <td>100.000000</td>\n",
       "      <td>5500.000000</td>\n",
       "      <td>88.000000</td>\n",
       "      <td>184.000000</td>\n",
       "      <td>73.000000</td>\n",
       "      <td>1.000000</td>\n",
       "    </tr>\n",
       "  </tbody>\n",
       "</table>\n",
       "</div>"
      ],
      "text/plain": [
       "         Flag roping  Platform Position [°]  Platform Motor frequency [HZ]  \\\n",
       "count  679045.000000          679045.000000                  679045.000000   \n",
       "mean       30.999361             163.937436                     694.531602   \n",
       "std         0.140758             111.206953                    1578.580228   \n",
       "min         0.000000               0.000000                       0.000000   \n",
       "25%        31.000000              62.000000                       0.000000   \n",
       "50%        31.000000             165.000000                       0.000000   \n",
       "75%        31.000000             260.000000                       0.000000   \n",
       "max        31.000000             359.000000                    5200.000000   \n",
       "\n",
       "       Temperature platform drive [°C]  Temperature slave drive [°C]  \\\n",
       "count                    679045.000000                 679045.000000   \n",
       "mean                         23.766837                     23.444327   \n",
       "std                          11.435006                      9.969298   \n",
       "min                           0.000000                      0.000000   \n",
       "25%                          15.000000                     16.000000   \n",
       "50%                          22.000000                     22.000000   \n",
       "75%                          32.000000                     30.000000   \n",
       "max                          61.000000                     55.000000   \n",
       "\n",
       "       Temperature hoist drive [°C]  Tensione totale film [%]  \\\n",
       "count                 679045.000000             679045.000000   \n",
       "mean                      21.303289                165.357471   \n",
       "std                        9.974128                211.047433   \n",
       "min                        0.000000               -100.000000   \n",
       "25%                       13.000000                144.000000   \n",
       "50%                       19.000000                179.000000   \n",
       "75%                       28.000000                201.000000   \n",
       "max                       55.000000               9900.000000   \n",
       "\n",
       "       Current speed cart [%]  Platform motor speed [%]  \\\n",
       "count           679045.000000             679045.000000   \n",
       "mean                 2.150718                 13.383201   \n",
       "std                 12.512806                 30.393794   \n",
       "min                  0.000000                  0.000000   \n",
       "25%                  0.000000                  0.000000   \n",
       "50%                  0.000000                  0.000000   \n",
       "75%                  0.000000                  0.000000   \n",
       "max                100.000000                100.000000   \n",
       "\n",
       "       Lifting motor speed [RPM]  Platform rotation speed [RPM]  \\\n",
       "count              679045.000000                  679045.000000   \n",
       "mean                  116.676833                      10.785796   \n",
       "std                   685.563601                      25.029436   \n",
       "min                     0.000000                       0.000000   \n",
       "25%                     0.000000                       0.000000   \n",
       "50%                     0.000000                       0.000000   \n",
       "75%                     0.000000                       0.000000   \n",
       "max                  5500.000000                      88.000000   \n",
       "\n",
       "       Slave rotation speed [M/MIN]  Lifting speed rotation [M/MIN]  \\\n",
       "count                 679045.000000                   679045.000000   \n",
       "mean                      11.759514                        0.933471   \n",
       "std                       32.598768                        5.634515   \n",
       "min                        0.000000                        0.000000   \n",
       "25%                        0.000000                        0.000000   \n",
       "50%                        0.000000                        0.000000   \n",
       "75%                        0.000000                        0.000000   \n",
       "max                      184.000000                       73.000000   \n",
       "\n",
       "            alert_11  \n",
       "count  679045.000000  \n",
       "mean        0.002051  \n",
       "std         0.045246  \n",
       "min         0.000000  \n",
       "25%         0.000000  \n",
       "50%         0.000000  \n",
       "75%         0.000000  \n",
       "max         1.000000  "
      ]
     },
     "execution_count": 3,
     "metadata": {},
     "output_type": "execute_result"
    }
   ],
   "source": [
    "df.info()\n",
    "df.describe()"
   ]
  },
  {
   "cell_type": "markdown",
   "id": "84043d9c-b7f8-477e-ad1f-b9ac96e862b8",
   "metadata": {},
   "source": [
    "## Modelling"
   ]
  },
  {
   "cell_type": "code",
   "execution_count": 4,
   "id": "c845320a-d12b-49ef-ada4-ef7e3e9ce431",
   "metadata": {},
   "outputs": [
    {
     "name": "stdout",
     "output_type": "stream",
     "text": [
      "-> Label (shape=(1,)): ['alert_11']\n",
      "-> Features (shape=(13,)): ['Current speed cart [%]' 'Flag roping' 'Lifting motor speed [RPM]'\n",
      " 'Lifting speed rotation [M/MIN]' 'Platform Motor frequency [HZ]'\n",
      " 'Platform Position [°]' 'Platform motor speed [%]'\n",
      " 'Platform rotation speed [RPM]' 'Slave rotation speed [M/MIN]'\n",
      " 'Temperature hoist drive [°C]' 'Temperature platform drive [°C]'\n",
      " 'Temperature slave drive [°C]' 'Tensione totale film [%]']\n"
     ]
    }
   ],
   "source": [
    "import numpy as np\n",
    "\n",
    "label = np.array(['alert_11'])\n",
    "features = np.array(df.columns.difference(label))\n",
    "\n",
    "print(f\"-> Label (shape={label.shape}): {label}\")\n",
    "print(f\"-> Features (shape={features.shape}): {features}\")"
   ]
  },
  {
   "cell_type": "code",
   "execution_count": 5,
   "id": "2dafd5ec-e2c9-4fb2-ab54-fc0524ca8471",
   "metadata": {},
   "outputs": [
    {
     "name": "stdout",
     "output_type": "stream",
     "text": [
      "-> X (shape=(679045, 13))\n",
      "-> y (shape=(679045, 1))\n"
     ]
    }
   ],
   "source": [
    "X = df[features]\n",
    "y = df[label]\n",
    "\n",
    "print(f\"-> X (shape={X.shape})\")\n",
    "print(f\"-> y (shape={y.shape})\")"
   ]
  },
  {
   "cell_type": "code",
   "execution_count": 6,
   "id": "723cd101-7ae5-4baa-9167-d8b9329a41a7",
   "metadata": {},
   "outputs": [],
   "source": [
    "X = X.to_numpy()\n",
    "y = y.to_numpy().flatten()"
   ]
  },
  {
   "cell_type": "code",
   "execution_count": 7,
   "id": "68da7208-a0b4-4e3b-a710-78a8508f66c1",
   "metadata": {},
   "outputs": [],
   "source": [
    "import numpy as np \n",
    "\n",
    "def window(X_data, y_data, width: int, shift: int):\n",
    "    \n",
    "    X_wins, y_wins = [], []\n",
    "\n",
    "    for index, (X, y) in enumerate(zip(X_data, y_data)):\n",
    "        if (index + width + shift) <= X_data.shape[0]:\n",
    "\n",
    "            window = slice((index + width), (index + width + shift))\n",
    "\n",
    "            X_wins.append(X_data[index: index + width])\n",
    "\n",
    "            y_values_shift = y_data[window]\n",
    "            y_wins.append(int(np.any(y_values_shift == 1)))\n",
    "\n",
    "    X_wins = np.array(X_wins)\n",
    "    y_wins = np.array(y_wins)\n",
    "    return X_wins.reshape(X_wins.shape[0], -1), y_wins.flatten()"
   ]
  },
  {
   "cell_type": "code",
   "execution_count": 8,
   "id": "0ce9a242-931d-4dd7-9739-7fc3ba4afd03",
   "metadata": {},
   "outputs": [],
   "source": [
    "X_wins, y_wins = window(X, y, width=120, shift=180)"
   ]
  },
  {
   "cell_type": "markdown",
   "id": "3fb2be7c-b56c-46be-9034-642ca9347aab",
   "metadata": {},
   "source": [
    "## Undersampling"
   ]
  },
  {
   "cell_type": "code",
   "execution_count": 9,
   "id": "4de763c1-7541-47b6-a0b5-e39e6f063140",
   "metadata": {},
   "outputs": [
    {
     "data": {
      "text/plain": [
       "(array([0, 1]), array([3324, 3324]))"
      ]
     },
     "execution_count": 9,
     "metadata": {},
     "output_type": "execute_result"
    }
   ],
   "source": [
    "from imblearn.under_sampling import RandomUnderSampler\n",
    "\n",
    "rus = RandomUnderSampler(random_state=42)\n",
    "\n",
    "X_res, y_res = rus.fit_resample(X_wins, y_wins)\n",
    "np.unique(y_res, return_counts=True)"
   ]
  },
  {
   "cell_type": "markdown",
   "id": "80feb867-08d2-41b0-b56e-82ba2bec037f",
   "metadata": {},
   "source": [
    "## Random Forest Classifier"
   ]
  },
  {
   "cell_type": "code",
   "execution_count": 10,
   "id": "0045f081-31d1-4542-ab61-6bc27ce48605",
   "metadata": {},
   "outputs": [],
   "source": [
    "from sklearn.ensemble import RandomForestClassifier\n",
    "\n",
    "model = RandomForestClassifier(random_state=42)"
   ]
  },
  {
   "cell_type": "markdown",
   "id": "51be8bd1-597d-48fa-8be4-8c7a45e07d61",
   "metadata": {},
   "source": [
    "## K-Fold Cross Validation"
   ]
  },
  {
   "cell_type": "code",
   "execution_count": 11,
   "id": "58f490e2-11ae-47d6-aa8e-b1aa61894af0",
   "metadata": {},
   "outputs": [
    {
     "data": {
      "text/plain": [
       "0.6464838167653898"
      ]
     },
     "execution_count": 11,
     "metadata": {},
     "output_type": "execute_result"
    }
   ],
   "source": [
    "from sklearn.model_selection import cross_val_score\n",
    "\n",
    "scores = cross_val_score(model, X_res, y_res, cv=5)\n",
    "scores.mean()"
   ]
  },
  {
   "cell_type": "markdown",
   "id": "25d94d5f-623b-4adf-a8ae-a7a1c1a7586b",
   "metadata": {},
   "source": [
    "## Train and Test"
   ]
  },
  {
   "cell_type": "code",
   "execution_count": 12,
   "id": "7e75a90c-8226-4b0c-95d5-c8f8238c78b5",
   "metadata": {},
   "outputs": [],
   "source": [
    "from sklearn.model_selection import train_test_split\n",
    "\n",
    "X_train, X_test, y_train, y_test = train_test_split(X_res, y_res, test_size=0.3, random_state=0)"
   ]
  },
  {
   "cell_type": "markdown",
   "id": "8733fe47-1367-4be7-b6a4-9924443b500e",
   "metadata": {},
   "source": [
    "## Confusion Matrix"
   ]
  },
  {
   "cell_type": "code",
   "execution_count": 13,
   "id": "cafd58ac-a6a8-41bf-9910-4dd0bb7a0341",
   "metadata": {},
   "outputs": [
    {
     "name": "stdout",
     "output_type": "stream",
     "text": [
      "[[ 973    9]\n",
      " [   0 1013]]\n",
      "              precision    recall  f1-score   support\n",
      "\n",
      "           0       1.00      0.99      1.00       982\n",
      "           1       0.99      1.00      1.00      1013\n",
      "\n",
      "    accuracy                           1.00      1995\n",
      "   macro avg       1.00      1.00      1.00      1995\n",
      "weighted avg       1.00      1.00      1.00      1995\n",
      "\n"
     ]
    }
   ],
   "source": [
    "from sklearn.ensemble import RandomForestClassifier\n",
    "from sklearn.metrics import confusion_matrix, classification_report\n",
    "\n",
    "model = RandomForestClassifier(random_state=42)\n",
    "model.fit(X_train, y_train)\n",
    "\n",
    "y_pred = model.predict(X_test)\n",
    "\n",
    "print(confusion_matrix(y_test, y_pred))\n",
    "print(classification_report(y_test, y_pred))"
   ]
  }
 ],
 "metadata": {
  "kernelspec": {
   "display_name": "PdM",
   "language": "python",
   "name": "pdm"
  },
  "language_info": {
   "codemirror_mode": {
    "name": "ipython",
    "version": 3
   },
   "file_extension": ".py",
   "mimetype": "text/x-python",
   "name": "python",
   "nbconvert_exporter": "python",
   "pygments_lexer": "ipython3",
   "version": "3.8.20"
  }
 },
 "nbformat": 4,
 "nbformat_minor": 5
}
