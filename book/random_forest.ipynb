{
 "cells": [
  {
   "cell_type": "markdown",
   "id": "eb394079-72dd-4a23-95d6-2458c0b8ff2e",
   "metadata": {},
   "source": [
    "## Preprocessing"
   ]
  },
  {
   "cell_type": "code",
   "execution_count": 1,
   "id": "3170bf71-f435-422e-bfd3-4b0ec3cf3af5",
   "metadata": {},
   "outputs": [],
   "source": [
    "import pandas as pd\n",
    "\n",
    "df = pd.read_parquet('../data/dataset.parquet', engine='pyarrow')"
   ]
  },
  {
   "cell_type": "markdown",
   "id": "02fb645f-f3b9-410b-a6c8-b3f01e892032",
   "metadata": {},
   "source": [
    "Remove **time_to_failure** and **session_counter** and set **Timestamp** as the index."
   ]
  },
  {
   "cell_type": "code",
   "execution_count": 2,
   "id": "d7c575aa-f52d-44da-b738-daab356d3cf2",
   "metadata": {},
   "outputs": [],
   "source": [
    "df.drop(columns=['session_counter', 'time_to_failure', 'Timestamp'], inplace=True)\n",
    "# df.set_index('Timestamp', inplace=True)"
   ]
  },
  {
   "cell_type": "code",
   "execution_count": 3,
   "id": "ed8a6692-e64b-4aff-be87-dcaafcf420f6",
   "metadata": {},
   "outputs": [
    {
     "name": "stdout",
     "output_type": "stream",
     "text": [
      "<class 'pandas.core.frame.DataFrame'>\n",
      "Index: 679045 entries, 0 to 8796486\n",
      "Data columns (total 14 columns):\n",
      " #   Column                           Non-Null Count   Dtype  \n",
      "---  ------                           --------------   -----  \n",
      " 0   Flag roping                      679045 non-null  float64\n",
      " 1   Platform Position [°]            679045 non-null  float64\n",
      " 2   Platform Motor frequency [HZ]    679045 non-null  float64\n",
      " 3   Temperature platform drive [°C]  679045 non-null  float64\n",
      " 4   Temperature slave drive [°C]     679045 non-null  float64\n",
      " 5   Temperature hoist drive [°C]     679045 non-null  float64\n",
      " 6   Tensione totale film [%]         679045 non-null  float64\n",
      " 7   Current speed cart [%]           679045 non-null  float64\n",
      " 8   Platform motor speed [%]         679045 non-null  float64\n",
      " 9   Lifting motor speed [RPM]        679045 non-null  float64\n",
      " 10  Platform rotation speed [RPM]    679045 non-null  float64\n",
      " 11  Slave rotation speed [M/MIN]     679045 non-null  float64\n",
      " 12  Lifting speed rotation [M/MIN]   679045 non-null  float64\n",
      " 13  alert_11                         679045 non-null  float64\n",
      "dtypes: float64(14)\n",
      "memory usage: 77.7 MB\n"
     ]
    },
    {
     "data": {
      "text/html": [
       "<div>\n",
       "<style scoped>\n",
       "    .dataframe tbody tr th:only-of-type {\n",
       "        vertical-align: middle;\n",
       "    }\n",
       "\n",
       "    .dataframe tbody tr th {\n",
       "        vertical-align: top;\n",
       "    }\n",
       "\n",
       "    .dataframe thead th {\n",
       "        text-align: right;\n",
       "    }\n",
       "</style>\n",
       "<table border=\"1\" class=\"dataframe\">\n",
       "  <thead>\n",
       "    <tr style=\"text-align: right;\">\n",
       "      <th></th>\n",
       "      <th>Flag roping</th>\n",
       "      <th>Platform Position [°]</th>\n",
       "      <th>Platform Motor frequency [HZ]</th>\n",
       "      <th>Temperature platform drive [°C]</th>\n",
       "      <th>Temperature slave drive [°C]</th>\n",
       "      <th>Temperature hoist drive [°C]</th>\n",
       "      <th>Tensione totale film [%]</th>\n",
       "      <th>Current speed cart [%]</th>\n",
       "      <th>Platform motor speed [%]</th>\n",
       "      <th>Lifting motor speed [RPM]</th>\n",
       "      <th>Platform rotation speed [RPM]</th>\n",
       "      <th>Slave rotation speed [M/MIN]</th>\n",
       "      <th>Lifting speed rotation [M/MIN]</th>\n",
       "      <th>alert_11</th>\n",
       "    </tr>\n",
       "  </thead>\n",
       "  <tbody>\n",
       "    <tr>\n",
       "      <th>count</th>\n",
       "      <td>679045.000000</td>\n",
       "      <td>679045.000000</td>\n",
       "      <td>679045.000000</td>\n",
       "      <td>679045.000000</td>\n",
       "      <td>679045.000000</td>\n",
       "      <td>679045.000000</td>\n",
       "      <td>679045.000000</td>\n",
       "      <td>679045.000000</td>\n",
       "      <td>679045.000000</td>\n",
       "      <td>679045.000000</td>\n",
       "      <td>679045.000000</td>\n",
       "      <td>679045.000000</td>\n",
       "      <td>679045.000000</td>\n",
       "      <td>679045.000000</td>\n",
       "    </tr>\n",
       "    <tr>\n",
       "      <th>mean</th>\n",
       "      <td>30.999361</td>\n",
       "      <td>163.937436</td>\n",
       "      <td>694.531602</td>\n",
       "      <td>23.766837</td>\n",
       "      <td>23.444327</td>\n",
       "      <td>21.303289</td>\n",
       "      <td>165.357471</td>\n",
       "      <td>2.150718</td>\n",
       "      <td>13.383201</td>\n",
       "      <td>116.676833</td>\n",
       "      <td>10.785796</td>\n",
       "      <td>11.759514</td>\n",
       "      <td>0.933471</td>\n",
       "      <td>0.002051</td>\n",
       "    </tr>\n",
       "    <tr>\n",
       "      <th>std</th>\n",
       "      <td>0.140758</td>\n",
       "      <td>111.206953</td>\n",
       "      <td>1578.580228</td>\n",
       "      <td>11.435006</td>\n",
       "      <td>9.969298</td>\n",
       "      <td>9.974128</td>\n",
       "      <td>211.047433</td>\n",
       "      <td>12.512806</td>\n",
       "      <td>30.393794</td>\n",
       "      <td>685.563601</td>\n",
       "      <td>25.029436</td>\n",
       "      <td>32.598768</td>\n",
       "      <td>5.634515</td>\n",
       "      <td>0.045246</td>\n",
       "    </tr>\n",
       "    <tr>\n",
       "      <th>min</th>\n",
       "      <td>0.000000</td>\n",
       "      <td>0.000000</td>\n",
       "      <td>0.000000</td>\n",
       "      <td>0.000000</td>\n",
       "      <td>0.000000</td>\n",
       "      <td>0.000000</td>\n",
       "      <td>-100.000000</td>\n",
       "      <td>0.000000</td>\n",
       "      <td>0.000000</td>\n",
       "      <td>0.000000</td>\n",
       "      <td>0.000000</td>\n",
       "      <td>0.000000</td>\n",
       "      <td>0.000000</td>\n",
       "      <td>0.000000</td>\n",
       "    </tr>\n",
       "    <tr>\n",
       "      <th>25%</th>\n",
       "      <td>31.000000</td>\n",
       "      <td>62.000000</td>\n",
       "      <td>0.000000</td>\n",
       "      <td>15.000000</td>\n",
       "      <td>16.000000</td>\n",
       "      <td>13.000000</td>\n",
       "      <td>144.000000</td>\n",
       "      <td>0.000000</td>\n",
       "      <td>0.000000</td>\n",
       "      <td>0.000000</td>\n",
       "      <td>0.000000</td>\n",
       "      <td>0.000000</td>\n",
       "      <td>0.000000</td>\n",
       "      <td>0.000000</td>\n",
       "    </tr>\n",
       "    <tr>\n",
       "      <th>50%</th>\n",
       "      <td>31.000000</td>\n",
       "      <td>165.000000</td>\n",
       "      <td>0.000000</td>\n",
       "      <td>22.000000</td>\n",
       "      <td>22.000000</td>\n",
       "      <td>19.000000</td>\n",
       "      <td>179.000000</td>\n",
       "      <td>0.000000</td>\n",
       "      <td>0.000000</td>\n",
       "      <td>0.000000</td>\n",
       "      <td>0.000000</td>\n",
       "      <td>0.000000</td>\n",
       "      <td>0.000000</td>\n",
       "      <td>0.000000</td>\n",
       "    </tr>\n",
       "    <tr>\n",
       "      <th>75%</th>\n",
       "      <td>31.000000</td>\n",
       "      <td>260.000000</td>\n",
       "      <td>0.000000</td>\n",
       "      <td>32.000000</td>\n",
       "      <td>30.000000</td>\n",
       "      <td>28.000000</td>\n",
       "      <td>201.000000</td>\n",
       "      <td>0.000000</td>\n",
       "      <td>0.000000</td>\n",
       "      <td>0.000000</td>\n",
       "      <td>0.000000</td>\n",
       "      <td>0.000000</td>\n",
       "      <td>0.000000</td>\n",
       "      <td>0.000000</td>\n",
       "    </tr>\n",
       "    <tr>\n",
       "      <th>max</th>\n",
       "      <td>31.000000</td>\n",
       "      <td>359.000000</td>\n",
       "      <td>5200.000000</td>\n",
       "      <td>61.000000</td>\n",
       "      <td>55.000000</td>\n",
       "      <td>55.000000</td>\n",
       "      <td>9900.000000</td>\n",
       "      <td>100.000000</td>\n",
       "      <td>100.000000</td>\n",
       "      <td>5500.000000</td>\n",
       "      <td>88.000000</td>\n",
       "      <td>184.000000</td>\n",
       "      <td>73.000000</td>\n",
       "      <td>1.000000</td>\n",
       "    </tr>\n",
       "  </tbody>\n",
       "</table>\n",
       "</div>"
      ],
      "text/plain": [
       "         Flag roping  Platform Position [°]  Platform Motor frequency [HZ]  \\\n",
       "count  679045.000000          679045.000000                  679045.000000   \n",
       "mean       30.999361             163.937436                     694.531602   \n",
       "std         0.140758             111.206953                    1578.580228   \n",
       "min         0.000000               0.000000                       0.000000   \n",
       "25%        31.000000              62.000000                       0.000000   \n",
       "50%        31.000000             165.000000                       0.000000   \n",
       "75%        31.000000             260.000000                       0.000000   \n",
       "max        31.000000             359.000000                    5200.000000   \n",
       "\n",
       "       Temperature platform drive [°C]  Temperature slave drive [°C]  \\\n",
       "count                    679045.000000                 679045.000000   \n",
       "mean                         23.766837                     23.444327   \n",
       "std                          11.435006                      9.969298   \n",
       "min                           0.000000                      0.000000   \n",
       "25%                          15.000000                     16.000000   \n",
       "50%                          22.000000                     22.000000   \n",
       "75%                          32.000000                     30.000000   \n",
       "max                          61.000000                     55.000000   \n",
       "\n",
       "       Temperature hoist drive [°C]  Tensione totale film [%]  \\\n",
       "count                 679045.000000             679045.000000   \n",
       "mean                      21.303289                165.357471   \n",
       "std                        9.974128                211.047433   \n",
       "min                        0.000000               -100.000000   \n",
       "25%                       13.000000                144.000000   \n",
       "50%                       19.000000                179.000000   \n",
       "75%                       28.000000                201.000000   \n",
       "max                       55.000000               9900.000000   \n",
       "\n",
       "       Current speed cart [%]  Platform motor speed [%]  \\\n",
       "count           679045.000000             679045.000000   \n",
       "mean                 2.150718                 13.383201   \n",
       "std                 12.512806                 30.393794   \n",
       "min                  0.000000                  0.000000   \n",
       "25%                  0.000000                  0.000000   \n",
       "50%                  0.000000                  0.000000   \n",
       "75%                  0.000000                  0.000000   \n",
       "max                100.000000                100.000000   \n",
       "\n",
       "       Lifting motor speed [RPM]  Platform rotation speed [RPM]  \\\n",
       "count              679045.000000                  679045.000000   \n",
       "mean                  116.676833                      10.785796   \n",
       "std                   685.563601                      25.029436   \n",
       "min                     0.000000                       0.000000   \n",
       "25%                     0.000000                       0.000000   \n",
       "50%                     0.000000                       0.000000   \n",
       "75%                     0.000000                       0.000000   \n",
       "max                  5500.000000                      88.000000   \n",
       "\n",
       "       Slave rotation speed [M/MIN]  Lifting speed rotation [M/MIN]  \\\n",
       "count                 679045.000000                   679045.000000   \n",
       "mean                      11.759514                        0.933471   \n",
       "std                       32.598768                        5.634515   \n",
       "min                        0.000000                        0.000000   \n",
       "25%                        0.000000                        0.000000   \n",
       "50%                        0.000000                        0.000000   \n",
       "75%                        0.000000                        0.000000   \n",
       "max                      184.000000                       73.000000   \n",
       "\n",
       "            alert_11  \n",
       "count  679045.000000  \n",
       "mean        0.002051  \n",
       "std         0.045246  \n",
       "min         0.000000  \n",
       "25%         0.000000  \n",
       "50%         0.000000  \n",
       "75%         0.000000  \n",
       "max         1.000000  "
      ]
     },
     "execution_count": 3,
     "metadata": {},
     "output_type": "execute_result"
    }
   ],
   "source": [
    "df.info()\n",
    "df.describe()"
   ]
  },
  {
   "cell_type": "markdown",
   "id": "84043d9c-b7f8-477e-ad1f-b9ac96e862b8",
   "metadata": {},
   "source": [
    "## Modelling"
   ]
  },
  {
   "cell_type": "code",
   "execution_count": 4,
   "id": "1a0cec39-9191-4abf-9ea2-9cd34f69ff9c",
   "metadata": {},
   "outputs": [
    {
     "name": "stdout",
     "output_type": "stream",
     "text": [
      "Index([  45902,   45904,   45906,   45908,   45910,   45912,   45914,   45916,\n",
      "         45918,   45920,\n",
      "       ...\n",
      "       7554522, 7554528, 7554535, 7554542, 7554547, 7554553, 7554561, 7554565,\n",
      "       7554568, 7554571],\n",
      "      dtype='int64', length=1393)\n"
     ]
    }
   ],
   "source": [
    "df_1 = df[df['alert_11'] == 1].index\n",
    "print(df_1)"
   ]
  },
  {
   "cell_type": "code",
   "execution_count": 5,
   "id": "68da7208-a0b4-4e3b-a710-78a8508f66c1",
   "metadata": {},
   "outputs": [],
   "source": [
    "import numpy as np\n",
    "\n",
    "def window(data: pd.DataFrame, width: int, shift: int, label='alert_11'):\n",
    "    X, y = [], []\n",
    "    num_rows, num_features = data.shape\n",
    "    \n",
    "    for start in range(0, num_rows - width + 1):\n",
    "        if (start + width + shift) <= len(data):\n",
    "            window = data.drop(columns=[label]).iloc[start:start + width].values\n",
    "            X.append(window.flatten())\n",
    "            \n",
    "            # Label is 1 if any value in the label column within the window is 1\n",
    "            label_value = 1 if data[label].iloc[start:start + width + shift].max() == 1 else 0\n",
    "            y.append(label_value)\n",
    "    \n",
    "    return X, np.array(y)"
   ]
  },
  {
   "cell_type": "code",
   "execution_count": 6,
   "id": "68826870-4c38-4c36-b60d-1b5225198358",
   "metadata": {},
   "outputs": [
    {
     "name": "stdout",
     "output_type": "stream",
     "text": [
      "([array([ 31.,  25.,   0.,  40.,  39.,  28., 204.,   0.,   0.,   0.,   0.,\n",
      "         0.,   0.,  31.,  25.,   0.,  40.,  39.,  28., 204.,   0.,   0.,\n",
      "         0.,   0.,   0.,   0.])], array([1]))\n"
     ]
    }
   ],
   "source": [
    "df_debug = df[17253:17257]\n",
    "df_debug\n",
    "print(window(df_debug, 2, 2))\n"
   ]
  },
  {
   "cell_type": "code",
   "execution_count": null,
   "id": "0ce9a242-931d-4dd7-9739-7fc3ba4afd03",
   "metadata": {},
   "outputs": [],
   "source": [
    "X, y = window(df, 180, 120)"
   ]
  },
  {
   "cell_type": "markdown",
   "id": "25d94d5f-623b-4adf-a8ae-a7a1c1a7586b",
   "metadata": {},
   "source": [
    "## Train and Test"
   ]
  },
  {
   "cell_type": "code",
   "execution_count": null,
   "id": "7e75a90c-8226-4b0c-95d5-c8f8238c78b5",
   "metadata": {},
   "outputs": [],
   "source": [
    "from sklearn.model_selection import train_test_split\n",
    "\n",
    "X_train, X_test, y_train, y_test = train_test_split(X, y, test_size=0.3, random_state=0)"
   ]
  },
  {
   "cell_type": "markdown",
   "id": "80feb867-08d2-41b0-b56e-82ba2bec037f",
   "metadata": {},
   "source": [
    "## Random Forest Classifier"
   ]
  },
  {
   "cell_type": "code",
   "execution_count": null,
   "id": "0045f081-31d1-4542-ab61-6bc27ce48605",
   "metadata": {},
   "outputs": [],
   "source": [
    "from sklearn.ensemble import RandomForestClassifier\n",
    "\n",
    "model = RandomForestClassifier(random_state=42)"
   ]
  },
  {
   "cell_type": "markdown",
   "id": "51be8bd1-597d-48fa-8be4-8c7a45e07d61",
   "metadata": {},
   "source": [
    "## K-Fold Cross Validation"
   ]
  },
  {
   "cell_type": "code",
   "execution_count": null,
   "id": "58f490e2-11ae-47d6-aa8e-b1aa61894af0",
   "metadata": {},
   "outputs": [],
   "source": [
    "from sklearn.model_selection import cross_val_score\n",
    "\n",
    "scores = cross_val_score(model, X, y, cv=5)\n",
    "scores\n",
    "print(np.average(scores))"
   ]
  },
  {
   "cell_type": "code",
   "execution_count": null,
   "id": "ae20ff14-59a1-4029-bff0-357f909ce94d",
   "metadata": {},
   "outputs": [],
   "source": []
  },
  {
   "cell_type": "code",
   "execution_count": null,
   "id": "fff71fcd-8f53-4e37-8531-c058c07841ff",
   "metadata": {},
   "outputs": [],
   "source": []
  }
 ],
 "metadata": {
  "kernelspec": {
   "display_name": "PdM",
   "language": "python",
   "name": "pdm"
  },
  "language_info": {
   "codemirror_mode": {
    "name": "ipython",
    "version": 3
   },
   "file_extension": ".py",
   "mimetype": "text/x-python",
   "name": "python",
   "nbconvert_exporter": "python",
   "pygments_lexer": "ipython3",
   "version": "3.8.20"
  }
 },
 "nbformat": 4,
 "nbformat_minor": 5
}
