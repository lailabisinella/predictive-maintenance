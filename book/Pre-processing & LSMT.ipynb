{
 "cells": [
  {
   "cell_type": "markdown",
   "id": "0f85cc27-fcec-450b-94ce-5f1b7b51c4a9",
   "metadata": {},
   "source": [
    "# Pre-processing"
   ]
  },
  {
   "cell_type": "markdown",
   "id": "851f3046-deaf-42d3-9b62-2b5d67ac7ee8",
   "metadata": {},
   "source": [
    "In thi section, this Notebook *Markdowns* highlight the differences in pre-procession techniques compared to the `Pre-processing & RF & SVM` notebook. Thus, in order to understand the Notebook, the `Pre-processing & RF & SVM` notebook must have been read beforehand."
   ]
  },
  {
   "cell_type": "markdown",
   "id": "7612e909-d73e-48f8-8f0d-e474acb37778",
   "metadata": {},
   "source": [
    "Firstly, the **`os`** library is utilised to interact with the operating system. By setting the logging level to `2`, it filters out **INFO** and **WARNING** messages, allowing only **ERROR** messages to be displayed. This adjustment improves readability by ensuring that only critical issues are shown, making error messages clearer and easier to interpret."
   ]
  },
  {
   "cell_type": "code",
   "execution_count": 2,
   "id": "4f98cbf5-1e49-482d-8acb-4f3edd55a6a7",
   "metadata": {},
   "outputs": [],
   "source": [
    "import os\n",
    "os.environ['TF_CPP_MIN_LOG_LEVEL'] = '2'"
   ]
  },
  {
   "cell_type": "markdown",
   "id": "2d4f998b-9a35-4faf-962b-ba9f1a7fe48e",
   "metadata": {},
   "source": [
    "### Data loading"
   ]
  },
  {
   "cell_type": "code",
   "execution_count": 3,
   "id": "29f61cb9-03b3-43a1-b5f4-10094f1b2d04",
   "metadata": {},
   "outputs": [],
   "source": [
    "import pandas as pd\n",
    "\n",
    "df = pd.read_parquet('./../data/dataset.parquet', engine='pyarrow')"
   ]
  },
  {
   "cell_type": "code",
   "execution_count": 4,
   "id": "865a2594-983c-4841-a6b7-72ae874dce6c",
   "metadata": {},
   "outputs": [
    {
     "data": {
      "text/plain": [
       "(679045, 17)"
      ]
     },
     "execution_count": 4,
     "metadata": {},
     "output_type": "execute_result"
    }
   ],
   "source": [
    "# Check the dataset has been imported correctly\n",
    "df.shape"
   ]
  },
  {
   "cell_type": "markdown",
   "id": "840292f9-a990-4c16-8f97-3a1f93872d49",
   "metadata": {},
   "source": [
    "## Pre-processing steps "
   ]
  },
  {
   "cell_type": "markdown",
   "id": "f7897373-bea6-4a11-91d2-d1555b558a9c",
   "metadata": {},
   "source": [
    "The key distinction in the pre-processing lies in the **reshaping of the data**, which is applied to both the **sliding window process** and **Random Undersampling (RUS)**.  \n",
    "For **Random Forest (RF)** and **Support Vector Machine (SVM)**, the data is structured as a **2D array**, where each row represents an independent instance with all features stacked. This format is suitable for traditional machine learning models, which do not account for temporal dependencies. However, for **Long Short-Term Memory (LSTM)**, the data must be reshaped into a **3D array** to preserve the **sequential nature** of the time-series data.  \n",
    "This transformation is crucial, as LSTM models rely on **temporal dependencies** rather than isolated feature vectors. Without maintaining this structure, the model would lose the ability to recognize patterns over time, limiting its effectiveness in capturing trends and predicting alerts accurately."
   ]
  },
  {
   "cell_type": "markdown",
   "id": "a11ba443-90be-47bc-b625-80d9c82cecfc",
   "metadata": {},
   "source": [
    "### Dataset optimisation"
   ]
  },
  {
   "cell_type": "markdown",
   "id": "cdc0dcba-2a4c-4d68-8e4c-fd285dbccf36",
   "metadata": {},
   "source": [
    "As implemented in the **Pre-processing & RF & SVM** notebook, the `session_counter` and `time_to_failure` features are removed from the dataset, as they are not relevant to the classification task. Eliminating these features ensures that the model focuses solely on the meaningful variables that contribute to the prediction of `alert_11`."
   ]
  },
  {
   "cell_type": "code",
   "execution_count": 5,
   "id": "04c6c633-5476-4eb0-b9cd-ac7157b5e759",
   "metadata": {},
   "outputs": [],
   "source": [
    "df.drop(columns=['session_counter', 'time_to_failure'], inplace=True)"
   ]
  },
  {
   "cell_type": "code",
   "execution_count": 6,
   "id": "dceb3738-38b9-4514-8191-335b37228aa9",
   "metadata": {},
   "outputs": [
    {
     "data": {
      "text/html": [
       "<div>\n",
       "<style scoped>\n",
       "    .dataframe tbody tr th:only-of-type {\n",
       "        vertical-align: middle;\n",
       "    }\n",
       "\n",
       "    .dataframe tbody tr th {\n",
       "        vertical-align: top;\n",
       "    }\n",
       "\n",
       "    .dataframe thead th {\n",
       "        text-align: right;\n",
       "    }\n",
       "</style>\n",
       "<table border=\"1\" class=\"dataframe\">\n",
       "  <thead>\n",
       "    <tr style=\"text-align: right;\">\n",
       "      <th></th>\n",
       "      <th>Timestamp</th>\n",
       "      <th>Flag roping</th>\n",
       "      <th>Platform Position [°]</th>\n",
       "      <th>Platform Motor frequency [HZ]</th>\n",
       "      <th>Temperature platform drive [°C]</th>\n",
       "      <th>Temperature slave drive [°C]</th>\n",
       "      <th>Temperature hoist drive [°C]</th>\n",
       "      <th>Tensione totale film [%]</th>\n",
       "      <th>Current speed cart [%]</th>\n",
       "      <th>Platform motor speed [%]</th>\n",
       "      <th>Lifting motor speed [RPM]</th>\n",
       "      <th>Platform rotation speed [RPM]</th>\n",
       "      <th>Slave rotation speed [M/MIN]</th>\n",
       "      <th>Lifting speed rotation [M/MIN]</th>\n",
       "      <th>alert_11</th>\n",
       "    </tr>\n",
       "  </thead>\n",
       "  <tbody>\n",
       "    <tr>\n",
       "      <th>0</th>\n",
       "      <td>2021-06-07 04:14:30.742</td>\n",
       "      <td>31.0</td>\n",
       "      <td>115.0</td>\n",
       "      <td>5200.0</td>\n",
       "      <td>18.0</td>\n",
       "      <td>22.0</td>\n",
       "      <td>18.0</td>\n",
       "      <td>181.0</td>\n",
       "      <td>0.0</td>\n",
       "      <td>100.0</td>\n",
       "      <td>0.0</td>\n",
       "      <td>84.0</td>\n",
       "      <td>116.0</td>\n",
       "      <td>0.0</td>\n",
       "      <td>0.0</td>\n",
       "    </tr>\n",
       "    <tr>\n",
       "      <th>1</th>\n",
       "      <td>2021-06-07 04:14:35.742</td>\n",
       "      <td>31.0</td>\n",
       "      <td>115.0</td>\n",
       "      <td>5200.0</td>\n",
       "      <td>18.0</td>\n",
       "      <td>22.0</td>\n",
       "      <td>18.0</td>\n",
       "      <td>181.0</td>\n",
       "      <td>0.0</td>\n",
       "      <td>100.0</td>\n",
       "      <td>0.0</td>\n",
       "      <td>84.0</td>\n",
       "      <td>116.0</td>\n",
       "      <td>0.0</td>\n",
       "      <td>0.0</td>\n",
       "    </tr>\n",
       "    <tr>\n",
       "      <th>2</th>\n",
       "      <td>2021-06-07 04:14:40.742</td>\n",
       "      <td>31.0</td>\n",
       "      <td>115.0</td>\n",
       "      <td>5200.0</td>\n",
       "      <td>18.0</td>\n",
       "      <td>22.0</td>\n",
       "      <td>18.0</td>\n",
       "      <td>181.0</td>\n",
       "      <td>0.0</td>\n",
       "      <td>100.0</td>\n",
       "      <td>0.0</td>\n",
       "      <td>84.0</td>\n",
       "      <td>116.0</td>\n",
       "      <td>0.0</td>\n",
       "      <td>0.0</td>\n",
       "    </tr>\n",
       "    <tr>\n",
       "      <th>3</th>\n",
       "      <td>2021-06-07 04:14:45.742</td>\n",
       "      <td>31.0</td>\n",
       "      <td>115.0</td>\n",
       "      <td>5200.0</td>\n",
       "      <td>18.0</td>\n",
       "      <td>22.0</td>\n",
       "      <td>18.0</td>\n",
       "      <td>181.0</td>\n",
       "      <td>0.0</td>\n",
       "      <td>100.0</td>\n",
       "      <td>0.0</td>\n",
       "      <td>84.0</td>\n",
       "      <td>116.0</td>\n",
       "      <td>0.0</td>\n",
       "      <td>0.0</td>\n",
       "    </tr>\n",
       "    <tr>\n",
       "      <th>4</th>\n",
       "      <td>2021-06-07 04:14:50.742</td>\n",
       "      <td>31.0</td>\n",
       "      <td>115.0</td>\n",
       "      <td>5200.0</td>\n",
       "      <td>18.0</td>\n",
       "      <td>22.0</td>\n",
       "      <td>18.0</td>\n",
       "      <td>181.0</td>\n",
       "      <td>0.0</td>\n",
       "      <td>100.0</td>\n",
       "      <td>0.0</td>\n",
       "      <td>84.0</td>\n",
       "      <td>116.0</td>\n",
       "      <td>0.0</td>\n",
       "      <td>0.0</td>\n",
       "    </tr>\n",
       "  </tbody>\n",
       "</table>\n",
       "</div>"
      ],
      "text/plain": [
       "                Timestamp  Flag roping  Platform Position [°]  \\\n",
       "0 2021-06-07 04:14:30.742         31.0                  115.0   \n",
       "1 2021-06-07 04:14:35.742         31.0                  115.0   \n",
       "2 2021-06-07 04:14:40.742         31.0                  115.0   \n",
       "3 2021-06-07 04:14:45.742         31.0                  115.0   \n",
       "4 2021-06-07 04:14:50.742         31.0                  115.0   \n",
       "\n",
       "   Platform Motor frequency [HZ]  Temperature platform drive [°C]  \\\n",
       "0                         5200.0                             18.0   \n",
       "1                         5200.0                             18.0   \n",
       "2                         5200.0                             18.0   \n",
       "3                         5200.0                             18.0   \n",
       "4                         5200.0                             18.0   \n",
       "\n",
       "   Temperature slave drive [°C]  Temperature hoist drive [°C]  \\\n",
       "0                          22.0                          18.0   \n",
       "1                          22.0                          18.0   \n",
       "2                          22.0                          18.0   \n",
       "3                          22.0                          18.0   \n",
       "4                          22.0                          18.0   \n",
       "\n",
       "   Tensione totale film [%]  Current speed cart [%]  Platform motor speed [%]  \\\n",
       "0                     181.0                     0.0                     100.0   \n",
       "1                     181.0                     0.0                     100.0   \n",
       "2                     181.0                     0.0                     100.0   \n",
       "3                     181.0                     0.0                     100.0   \n",
       "4                     181.0                     0.0                     100.0   \n",
       "\n",
       "   Lifting motor speed [RPM]  Platform rotation speed [RPM]  \\\n",
       "0                        0.0                           84.0   \n",
       "1                        0.0                           84.0   \n",
       "2                        0.0                           84.0   \n",
       "3                        0.0                           84.0   \n",
       "4                        0.0                           84.0   \n",
       "\n",
       "   Slave rotation speed [M/MIN]  Lifting speed rotation [M/MIN]  alert_11  \n",
       "0                         116.0                             0.0       0.0  \n",
       "1                         116.0                             0.0       0.0  \n",
       "2                         116.0                             0.0       0.0  \n",
       "3                         116.0                             0.0       0.0  \n",
       "4                         116.0                             0.0       0.0  "
      ]
     },
     "execution_count": 6,
     "metadata": {},
     "output_type": "execute_result"
    }
   ],
   "source": [
    "# Display the dataset to ensure the columns have been removed\n",
    "df.head()"
   ]
  },
  {
   "cell_type": "markdown",
   "id": "9b28d450-cf06-4843-9025-b1821bf3aeb3",
   "metadata": {},
   "source": [
    "As is common in most time-series datasets, the `Timestamp` column is set as the index of the dataset. This allows for efficient time-based operations, such as resampling, sliding window calculations, and trend analysis, while preserving the chronological structure of the data."
   ]
  },
  {
   "cell_type": "code",
   "execution_count": 7,
   "id": "90fd838b-b7ad-44f2-8592-f010fd511460",
   "metadata": {},
   "outputs": [],
   "source": [
    "df.set_index('Timestamp', inplace=True)"
   ]
  },
  {
   "cell_type": "code",
   "execution_count": 8,
   "id": "4ebcf54c-6886-4df6-afd3-7c2ae834ba69",
   "metadata": {},
   "outputs": [
    {
     "data": {
      "text/plain": [
       "'Timestamp'"
      ]
     },
     "execution_count": 8,
     "metadata": {},
     "output_type": "execute_result"
    }
   ],
   "source": [
    "# Check if Timestamp has become the index of the dataset\n",
    "df.index.name"
   ]
  },
  {
   "cell_type": "markdown",
   "id": "65a95863-f280-4728-9351-90575bcb30d5",
   "metadata": {},
   "source": [
    "### Features extraction"
   ]
  },
  {
   "cell_type": "markdown",
   "id": "457aabd7-e454-4e3b-9479-661b966c4a26",
   "metadata": {},
   "source": [
    "In this section, the label (`y`) and the features (`X`) for the models are defined, with `alert_11` serving as the target variable and all other columns being designated as features. This decision is based on the fact that `alert_11` represents the primary event of interest, aligning with the study’s objective. By including all other columns as features, the models can leverage the full range of available sensor data to identify patterns and relationships that may contribute to predicting `alert_11`."
   ]
  },
  {
   "cell_type": "code",
   "execution_count": 9,
   "id": "eeb5d29a-a164-47a0-bd0b-38442602c066",
   "metadata": {},
   "outputs": [
    {
     "name": "stdout",
     "output_type": "stream",
     "text": [
      "-> Label (shape=(1,)): ['alert_11']\n",
      "-> Features (shape=(13,)): ['Current speed cart [%]' 'Flag roping' 'Lifting motor speed [RPM]'\n",
      " 'Lifting speed rotation [M/MIN]' 'Platform Motor frequency [HZ]'\n",
      " 'Platform Position [°]' 'Platform motor speed [%]'\n",
      " 'Platform rotation speed [RPM]' 'Slave rotation speed [M/MIN]'\n",
      " 'Temperature hoist drive [°C]' 'Temperature platform drive [°C]'\n",
      " 'Temperature slave drive [°C]' 'Tensione totale film [%]']\n"
     ]
    }
   ],
   "source": [
    "# State the label and the features\n",
    "import numpy as np\n",
    "\n",
    "label = np.array(['alert_11'])\n",
    "features = np.array(df.columns.difference(label))\n",
    "\n",
    "print(f\"-> Label (shape={label.shape}): {label}\")\n",
    "print(f\"-> Features (shape={features.shape}): {features}\")"
   ]
  },
  {
   "cell_type": "code",
   "execution_count": 10,
   "id": "0fb802f8-188e-4b07-90c2-86bd5c266269",
   "metadata": {},
   "outputs": [
    {
     "name": "stdout",
     "output_type": "stream",
     "text": [
      "-> X (shape=(679045, 13))\n",
      "-> y (shape=(679045, 1))\n"
     ]
    }
   ],
   "source": [
    "# Extract and assign the label and the features, X and y\n",
    "X = df[features]\n",
    "y = df[label]\n",
    "\n",
    "print(f\"-> X (shape={X.shape})\")\n",
    "print(f\"-> y (shape={y.shape})\")"
   ]
  },
  {
   "cell_type": "markdown",
   "id": "4d9e9b90-ae1b-4113-8a52-0a46adbb81b5",
   "metadata": {},
   "source": [
    "### Sliding window"
   ]
  },
  {
   "cell_type": "code",
   "execution_count": 11,
   "id": "63048f67-3154-42a6-8a41-11844ac215c6",
   "metadata": {},
   "outputs": [],
   "source": [
    "# Prepare the label and features for the window\n",
    "X = X.to_numpy()\n",
    "y = y.to_numpy().flatten()"
   ]
  },
  {
   "cell_type": "code",
   "execution_count": 6,
   "id": "e5328aa7-cb0b-4a27-928b-c4534f7fc991",
   "metadata": {},
   "outputs": [],
   "source": [
    "# Create the window\n",
    "import numpy as np\n",
    "\n",
    "x_wins_shape = None\n",
    "\n",
    "def window(X_data, y_data, width: int, shift: int):\n",
    "\n",
    "    X_wins, y_wins = [], []\n",
    "\n",
    "    for index, (X, y) in enumerate(zip(X_data, y_data)):\n",
    "        if (index + width + shift) <= X_data.shape[0]:\n",
    "\n",
    "            window = slice((index + width), (index + width + shift))\n",
    "\n",
    "            X_wins.append(X_data[index: index + width])\n",
    "\n",
    "            y_values_shift = y_data[window]\n",
    "            y_wins.append(int(np.any(y_values_shift == 1)))\n",
    "\n",
    "    X_wins = np.array(X_wins)\n",
    "    x_wins_shape = X_wins.shape # Ensuring the 2D array is contained inside another array (3D array)\n",
    "    y_wins = np.array(y_wins)\n",
    "    return X_wins.reshape(X_wins.shape[0], -1), y_wins.flatten()"
   ]
  },
  {
   "cell_type": "code",
   "execution_count": 7,
   "id": "cdd02420-2e5b-4173-8305-ac8b45333957",
   "metadata": {},
   "outputs": [],
   "source": [
    "# State the variables and the size of the window\n",
    "X_wins, y_wins = window(X, y, width=120, shift=180)"
   ]
  },
  {
   "cell_type": "markdown",
   "id": "f01b61d9-ca2f-45d7-8358-2d5b6049198f",
   "metadata": {},
   "source": [
    "### Random Under Sampler (RUS)"
   ]
  },
  {
   "cell_type": "code",
   "execution_count": 8,
   "id": "e0b7180c-7496-4e13-84b0-a0089b01dc6f",
   "metadata": {},
   "outputs": [
    {
     "name": "stdout",
     "output_type": "stream",
     "text": [
      "(6648, 1, 1560)\n"
     ]
    }
   ],
   "source": [
    "from imblearn.under_sampling import RandomUnderSampler\n",
    "\n",
    "rus = RandomUnderSampler(random_state=0)\n",
    "\n",
    "X_res, y_res = rus.fit_resample(X_wins, y_wins)\n",
    "X_res = X_res.reshape(X_res.shape[0], 1, X_res.shape[1]) # Generates 1 empty array in the middle to have a 3D array\n",
    "print(X_res.shape)"
   ]
  },
  {
   "cell_type": "markdown",
   "id": "c3f9e231-f05c-4313-9667-cef4e0a8e059",
   "metadata": {},
   "source": [
    "# Modelling"
   ]
  },
  {
   "cell_type": "markdown",
   "id": "39e479d8-ed62-451a-a11a-89be540dc7f6",
   "metadata": {},
   "source": [
    "### Long Short-Term Memeory (LSTM)"
   ]
  },
  {
   "cell_type": "code",
   "execution_count": 9,
   "id": "ae0c71a4-fe7f-4e58-887b-ce1fc97bd2b4",
   "metadata": {},
   "outputs": [],
   "source": [
    "# Perform 5-fold-cross-validation\n",
    "from sklearn.model_selection import StratifiedKFold\n",
    "\n",
    "kf = StratifiedKFold(n_splits=5, shuffle=True, random_state=42)\n",
    "fold_metrics = []"
   ]
  },
  {
   "cell_type": "code",
   "execution_count": 10,
   "id": "de7f7e6f-5c24-4bde-8018-744f15a77e03",
   "metadata": {},
   "outputs": [
    {
     "name": "stdout",
     "output_type": "stream",
     "text": [
      "Training fold 1...\n",
      "Epoch 1/10\n",
      "167/167 [==============================] - 8s 21ms/step - loss: 1.8658 - accuracy: 0.6788 - precision: 0.6964 - recall: 0.6341 - val_loss: 1.7194 - val_accuracy: 0.7143 - val_precision: 0.9130 - val_recall: 0.4737\n",
      "Epoch 2/10\n",
      "167/167 [==============================] - 2s 11ms/step - loss: 1.5272 - accuracy: 0.7129 - precision: 0.7599 - recall: 0.6224 - val_loss: 1.4294 - val_accuracy: 0.7203 - val_precision: 0.8206 - val_recall: 0.5639\n",
      "Epoch 3/10\n",
      "167/167 [==============================] - 2s 14ms/step - loss: 1.3745 - accuracy: 0.7185 - precision: 0.7733 - recall: 0.6183 - val_loss: 1.2923 - val_accuracy: 0.7308 - val_precision: 0.7786 - val_recall: 0.6451\n",
      "Epoch 4/10\n",
      "167/167 [==============================] - 2s 14ms/step - loss: 1.2655 - accuracy: 0.7136 - precision: 0.7568 - recall: 0.6296 - val_loss: 1.2342 - val_accuracy: 0.7158 - val_precision: 0.8073 - val_recall: 0.5669\n",
      "Epoch 5/10\n",
      "167/167 [==============================] - 2s 14ms/step - loss: 1.1670 - accuracy: 0.7309 - precision: 0.7891 - recall: 0.6303 - val_loss: 1.0819 - val_accuracy: 0.7767 - val_precision: 0.8228 - val_recall: 0.7053\n",
      "Epoch 6/10\n",
      "167/167 [==============================] - 3s 15ms/step - loss: 1.0737 - accuracy: 0.7416 - precision: 0.7993 - recall: 0.6454 - val_loss: 1.2238 - val_accuracy: 0.6098 - val_precision: 0.7786 - val_recall: 0.3068\n",
      "Epoch 7/10\n",
      "167/167 [==============================] - 3s 16ms/step - loss: 1.0263 - accuracy: 0.7311 - precision: 0.7862 - recall: 0.6348 - val_loss: 0.9869 - val_accuracy: 0.7549 - val_precision: 0.8180 - val_recall: 0.6556\n",
      "Epoch 8/10\n",
      "167/167 [==============================] - 3s 16ms/step - loss: 0.9711 - accuracy: 0.7480 - precision: 0.8106 - recall: 0.6472 - val_loss: 0.9363 - val_accuracy: 0.7744 - val_precision: 0.8399 - val_recall: 0.6782\n",
      "Epoch 9/10\n",
      "167/167 [==============================] - 3s 16ms/step - loss: 0.9263 - accuracy: 0.7587 - precision: 0.8165 - recall: 0.6675 - val_loss: 0.9184 - val_accuracy: 0.7662 - val_precision: 0.8848 - val_recall: 0.6120\n",
      "Epoch 10/10\n",
      "167/167 [==============================] - 2s 13ms/step - loss: 0.9328 - accuracy: 0.7422 - precision: 0.7990 - recall: 0.6472 - val_loss: 0.8984 - val_accuracy: 0.7602 - val_precision: 0.8057 - val_recall: 0.6857\n",
      "Training fold 2...\n",
      "Epoch 1/10\n",
      "167/167 [==============================] - 7s 15ms/step - loss: 1.8608 - accuracy: 0.6788 - precision_1: 0.7074 - recall_1: 0.6100 - val_loss: 1.7172 - val_accuracy: 0.6962 - val_precision_1: 0.9015 - val_recall_1: 0.4406\n",
      "Epoch 2/10\n",
      "167/167 [==============================] - 1s 8ms/step - loss: 1.5127 - accuracy: 0.7185 - precision_1: 0.7777 - recall_1: 0.6119 - val_loss: 1.5384 - val_accuracy: 0.6820 - val_precision_1: 0.8903 - val_recall_1: 0.4150\n",
      "Epoch 3/10\n",
      "167/167 [==============================] - 1s 8ms/step - loss: 1.3592 - accuracy: 0.7326 - precision_1: 0.7911 - recall_1: 0.6322 - val_loss: 1.3046 - val_accuracy: 0.7414 - val_precision_1: 0.8849 - val_recall_1: 0.5549\n",
      "Epoch 4/10\n",
      "167/167 [==============================] - 2s 11ms/step - loss: 1.2390 - accuracy: 0.7337 - precision_1: 0.7941 - recall_1: 0.6311 - val_loss: 1.1725 - val_accuracy: 0.7564 - val_precision_1: 0.8545 - val_recall_1: 0.6180\n",
      "Epoch 5/10\n",
      "167/167 [==============================] - 2s 15ms/step - loss: 1.1353 - accuracy: 0.7446 - precision_1: 0.8251 - recall_1: 0.6209 - val_loss: 1.0656 - val_accuracy: 0.7669 - val_precision_1: 0.8600 - val_recall_1: 0.6376\n",
      "Epoch 6/10\n",
      "167/167 [==============================] - 2s 14ms/step - loss: 1.0538 - accuracy: 0.7482 - precision_1: 0.8090 - recall_1: 0.6499 - val_loss: 1.0681 - val_accuracy: 0.7308 - val_precision_1: 0.8139 - val_recall_1: 0.5985\n",
      "Epoch 7/10\n",
      "167/167 [==============================] - 2s 14ms/step - loss: 1.0134 - accuracy: 0.7377 - precision_1: 0.7973 - recall_1: 0.6375 - val_loss: 0.9972 - val_accuracy: 0.7143 - val_precision_1: 0.7746 - val_recall_1: 0.6045\n",
      "Epoch 8/10\n",
      "167/167 [==============================] - 2s 14ms/step - loss: 0.9700 - accuracy: 0.7461 - precision_1: 0.7947 - recall_1: 0.6638 - val_loss: 0.9604 - val_accuracy: 0.7549 - val_precision_1: 0.8383 - val_recall_1: 0.6316\n",
      "Epoch 9/10\n",
      "167/167 [==============================] - 3s 16ms/step - loss: 0.9481 - accuracy: 0.7386 - precision_1: 0.7857 - recall_1: 0.6563 - val_loss: 0.9012 - val_accuracy: 0.7519 - val_precision_1: 0.8731 - val_recall_1: 0.5895\n",
      "Epoch 10/10\n",
      "167/167 [==============================] - 2s 14ms/step - loss: 0.9054 - accuracy: 0.7420 - precision_1: 0.8040 - recall_1: 0.6401 - val_loss: 0.8929 - val_accuracy: 0.7549 - val_precision_1: 0.8410 - val_recall_1: 0.6286\n",
      "Training fold 3...\n",
      "Epoch 1/10\n",
      "167/167 [==============================] - 7s 17ms/step - loss: 1.8515 - accuracy: 0.6822 - precision_2: 0.6991 - recall_2: 0.6397 - val_loss: 1.7074 - val_accuracy: 0.5737 - val_precision_2: 0.9224 - val_recall_2: 0.1609\n",
      "Epoch 2/10\n",
      "167/167 [==============================] - 1s 8ms/step - loss: 1.5023 - accuracy: 0.7181 - precision_2: 0.7629 - recall_2: 0.6329 - val_loss: 1.4963 - val_accuracy: 0.6556 - val_precision_2: 0.8736 - val_recall_2: 0.3639\n",
      "Epoch 3/10\n",
      "167/167 [==============================] - 1s 8ms/step - loss: 1.3347 - accuracy: 0.7324 - precision_2: 0.7761 - recall_2: 0.6533 - val_loss: 1.2937 - val_accuracy: 0.7105 - val_precision_2: 0.7612 - val_recall_2: 0.6135\n",
      "Epoch 4/10\n",
      "167/167 [==============================] - 2s 12ms/step - loss: 1.2344 - accuracy: 0.7268 - precision_2: 0.7758 - recall_2: 0.6378 - val_loss: 1.2811 - val_accuracy: 0.6759 - val_precision_2: 0.6857 - val_recall_2: 0.6496\n",
      "Epoch 5/10\n",
      "167/167 [==============================] - 2s 13ms/step - loss: 1.1580 - accuracy: 0.7247 - precision_2: 0.7640 - recall_2: 0.6502 - val_loss: 1.1375 - val_accuracy: 0.7060 - val_precision_2: 0.7831 - val_recall_2: 0.5699\n",
      "Epoch 6/10\n",
      "167/167 [==============================] - 2s 13ms/step - loss: 1.0848 - accuracy: 0.7236 - precision_2: 0.7726 - recall_2: 0.6337 - val_loss: 1.0748 - val_accuracy: 0.7308 - val_precision_2: 0.8966 - val_recall_2: 0.5218\n",
      "Epoch 7/10\n",
      "167/167 [==============================] - 2s 14ms/step - loss: 1.0278 - accuracy: 0.7335 - precision_2: 0.7810 - recall_2: 0.6491 - val_loss: 1.0293 - val_accuracy: 0.7571 - val_precision_2: 0.8577 - val_recall_2: 0.6165\n",
      "Epoch 8/10\n",
      "167/167 [==============================] - 2s 14ms/step - loss: 0.9485 - accuracy: 0.7580 - precision_2: 0.8076 - recall_2: 0.6773 - val_loss: 0.9754 - val_accuracy: 0.7406 - val_precision_2: 0.8187 - val_recall_2: 0.6180\n",
      "Epoch 9/10\n",
      "167/167 [==============================] - 2s 13ms/step - loss: 0.9341 - accuracy: 0.7493 - precision_2: 0.8030 - recall_2: 0.6608 - val_loss: 0.9313 - val_accuracy: 0.7060 - val_precision_2: 0.7615 - val_recall_2: 0.6000\n",
      "Epoch 10/10\n",
      "167/167 [==============================] - 2s 12ms/step - loss: 0.8986 - accuracy: 0.7490 - precision_2: 0.8062 - recall_2: 0.6555 - val_loss: 0.9018 - val_accuracy: 0.7346 - val_precision_2: 0.7626 - val_recall_2: 0.6812\n",
      "Training fold 4...\n",
      "Epoch 1/10\n",
      "167/167 [==============================] - 7s 14ms/step - loss: 1.8849 - accuracy: 0.6783 - precision_3: 0.6947 - recall_3: 0.6365 - val_loss: 1.7333 - val_accuracy: 0.5342 - val_precision_3: 0.9787 - val_recall_3: 0.0693\n",
      "Epoch 2/10\n",
      "167/167 [==============================] - 1s 7ms/step - loss: 1.5243 - accuracy: 0.7133 - precision_3: 0.7449 - recall_3: 0.6489 - val_loss: 1.4534 - val_accuracy: 0.7193 - val_precision_3: 0.8702 - val_recall_3: 0.5151\n",
      "Epoch 3/10\n",
      "167/167 [==============================] - 1s 8ms/step - loss: 1.3587 - accuracy: 0.7291 - precision_3: 0.7834 - recall_3: 0.6335 - val_loss: 1.2890 - val_accuracy: 0.7434 - val_precision_3: 0.9152 - val_recall_3: 0.5361\n",
      "Epoch 4/10\n",
      "167/167 [==============================] - 1s 8ms/step - loss: 1.2302 - accuracy: 0.7383 - precision_3: 0.7991 - recall_3: 0.6368 - val_loss: 1.1862 - val_accuracy: 0.7449 - val_precision_3: 0.8480 - val_recall_3: 0.5964\n",
      "Epoch 5/10\n",
      "167/167 [==============================] - 2s 12ms/step - loss: 1.1495 - accuracy: 0.7374 - precision_3: 0.7952 - recall_3: 0.6395 - val_loss: 1.1697 - val_accuracy: 0.7321 - val_precision_3: 0.9053 - val_recall_3: 0.5181\n",
      "Epoch 6/10\n",
      "167/167 [==============================] - 2s 11ms/step - loss: 1.0858 - accuracy: 0.7375 - precision_3: 0.7942 - recall_3: 0.6414 - val_loss: 1.0705 - val_accuracy: 0.7291 - val_precision_3: 0.8262 - val_recall_3: 0.5798\n",
      "Epoch 7/10\n",
      "167/167 [==============================] - 2s 11ms/step - loss: 1.0339 - accuracy: 0.7398 - precision_3: 0.7979 - recall_3: 0.6425 - val_loss: 0.9992 - val_accuracy: 0.7434 - val_precision_3: 0.8597 - val_recall_3: 0.5813\n",
      "Epoch 8/10\n",
      "167/167 [==============================] - 2s 12ms/step - loss: 0.9872 - accuracy: 0.7443 - precision_3: 0.8012 - recall_3: 0.6500 - val_loss: 0.9949 - val_accuracy: 0.7133 - val_precision_3: 0.8223 - val_recall_3: 0.5437\n",
      "Epoch 9/10\n",
      "167/167 [==============================] - 2s 11ms/step - loss: 0.9627 - accuracy: 0.7419 - precision_3: 0.7942 - recall_3: 0.6530 - val_loss: 1.0927 - val_accuracy: 0.6328 - val_precision_3: 0.8284 - val_recall_3: 0.3343\n",
      "Epoch 10/10\n",
      "167/167 [==============================] - 2s 12ms/step - loss: 0.9208 - accuracy: 0.7409 - precision_3: 0.7935 - recall_3: 0.6515 - val_loss: 0.9394 - val_accuracy: 0.7269 - val_precision_3: 0.8016 - val_recall_3: 0.6024\n",
      "Training fold 5...\n",
      "Epoch 1/10\n",
      "167/167 [==============================] - 7s 14ms/step - loss: 1.8725 - accuracy: 0.6851 - precision_4: 0.7115 - recall_4: 0.6224 - val_loss: 1.7191 - val_accuracy: 0.7141 - val_precision_4: 0.9612 - val_recall_4: 0.4466\n",
      "Epoch 2/10\n",
      "167/167 [==============================] - 1s 7ms/step - loss: 1.5171 - accuracy: 0.7161 - precision_4: 0.7641 - recall_4: 0.6250 - val_loss: 1.4674 - val_accuracy: 0.7193 - val_precision_4: 0.9479 - val_recall_4: 0.4647\n",
      "Epoch 3/10\n",
      "167/167 [==============================] - 1s 9ms/step - loss: 1.3479 - accuracy: 0.7330 - precision_4: 0.7830 - recall_4: 0.6446 - val_loss: 1.2888 - val_accuracy: 0.7148 - val_precision_4: 0.8206 - val_recall_4: 0.5504\n",
      "Epoch 4/10\n",
      "167/167 [==============================] - 1s 8ms/step - loss: 1.2375 - accuracy: 0.7400 - precision_4: 0.7808 - recall_4: 0.6672 - val_loss: 1.2145 - val_accuracy: 0.7284 - val_precision_4: 0.8115 - val_recall_4: 0.5955\n",
      "Epoch 5/10\n",
      "167/167 [==============================] - 2s 9ms/step - loss: 1.1414 - accuracy: 0.7270 - precision_4: 0.7722 - recall_4: 0.6439 - val_loss: 1.1447 - val_accuracy: 0.7261 - val_precision_4: 0.8382 - val_recall_4: 0.5609\n",
      "Epoch 6/10\n",
      "167/167 [==============================] - 2s 12ms/step - loss: 1.0736 - accuracy: 0.7302 - precision_4: 0.7696 - recall_4: 0.6570 - val_loss: 1.0107 - val_accuracy: 0.7397 - val_precision_4: 0.8633 - val_recall_4: 0.5699\n",
      "Epoch 7/10\n",
      "167/167 [==============================] - 2s 12ms/step - loss: 0.9924 - accuracy: 0.7486 - precision_4: 0.8224 - recall_4: 0.6341 - val_loss: 0.9514 - val_accuracy: 0.7660 - val_precision_4: 0.8672 - val_recall_4: 0.6286\n",
      "Epoch 8/10\n",
      "167/167 [==============================] - 2s 12ms/step - loss: 0.9563 - accuracy: 0.7498 - precision_4: 0.8112 - recall_4: 0.6510 - val_loss: 0.9105 - val_accuracy: 0.7487 - val_precision_4: 0.8702 - val_recall_4: 0.5850\n",
      "Epoch 9/10\n",
      "167/167 [==============================] - 2s 12ms/step - loss: 0.9335 - accuracy: 0.7387 - precision_4: 0.7865 - recall_4: 0.6551 - val_loss: 0.9055 - val_accuracy: 0.7381 - val_precision_4: 0.7709 - val_recall_4: 0.6782\n",
      "Epoch 10/10\n",
      "167/167 [==============================] - 2s 12ms/step - loss: 0.8972 - accuracy: 0.7396 - precision_4: 0.7985 - recall_4: 0.6408 - val_loss: 0.8407 - val_accuracy: 0.7825 - val_precision_4: 0.8730 - val_recall_4: 0.6617\n"
     ]
    }
   ],
   "source": [
    "# Build and train LSTM model\n",
    "import tensorflow as tf\n",
    "from tensorflow.keras.models import Sequential\n",
    "from tensorflow.keras.layers import LSTM, Bidirectional, BatchNormalization, Dense, Dropout\n",
    "from tensorflow.keras.regularizers import L2\n",
    "from tensorflow.keras.callbacks import EarlyStopping\n",
    "from tensorflow.keras.metrics import Precision, Recall\n",
    "\n",
    "for fold, (train_idx, val_idx) in enumerate(kf.split(X_res, y_res)):\n",
    "    print(f\"Training fold {fold+1}...\")\n",
    "\n",
    "    X_train, X_val = X_res[train_idx], X_res[val_idx]\n",
    "    y_train, y_val = y_res[train_idx], y_res[val_idx]\n",
    "\n",
    "    model = Sequential()\n",
    "    model.add(Bidirectional(LSTM(128, return_sequences=True, kernel_regularizer=L2(0.001)), input_shape=(X_train.shape[1], X_train.shape[2])))\n",
    "    model.add(BatchNormalization())\n",
    "    model.add(Bidirectional(LSTM(64, return_sequences=True, kernel_regularizer=L2(0.001))))\n",
    "    model.add(BatchNormalization())\n",
    "    model.add(Bidirectional(LSTM(128, return_sequences=False, kernel_regularizer=L2(0.001))))\n",
    "    model.add(BatchNormalization())\n",
    "    model.add(Dense(units=64, activation=\"relu\", kernel_regularizer=L2(0.001)))\n",
    "    model.add(Dropout(0.3))\n",
    "    model.add(Dense(units=32, activation=\"relu\", kernel_regularizer=L2(0.001)))\n",
    "    model.add(Dense(units=1, activation=\"sigmoid\"))\n",
    "\n",
    "    model.compile(\n",
    "        loss='binary_crossentropy',\n",
    "        optimizer='adam',\n",
    "        metrics=['accuracy', Precision(), Recall()]\n",
    "    )\n",
    "\n",
    "    early_stop = EarlyStopping(monitor='val_loss', patience=5, restore_best_weights=True)\n",
    "    history = model.fit(\n",
    "        X_train, y_train,\n",
    "        epochs=10,\n",
    "        batch_size=32,\n",
    "        validation_data=(X_val, y_val),\n",
    "        callbacks=[early_stop],\n",
    "        verbose=1\n",
    "    )\n",
    "\n",
    "    score = model.evaluate(X_val, y_val, batch_size=32, verbose=0)\n",
    "    fold_metrics.append({\n",
    "        'fold': fold + 1,\n",
    "        'loss': score[0],\n",
    "        'accuracy': score[1],\n",
    "        'precision': score[2],\n",
    "        'recall': score[3]\n",
    "    })"
   ]
  },
  {
   "cell_type": "code",
   "execution_count": 11,
   "id": "b38e8077-db57-4c00-b8a2-eeb165e57d68",
   "metadata": {},
   "outputs": [
    {
     "name": "stdout",
     "output_type": "stream",
     "text": [
      "\n",
      "Cross-Validation Results:\n",
      "   fold      loss  accuracy  precision    recall\n",
      "0     1  0.898425  0.760150   0.805654  0.685714\n",
      "1     2  0.892884  0.754887   0.841046  0.628571\n",
      "2     3  0.901770  0.734586   0.762626  0.681203\n",
      "3     4  0.939431  0.726862   0.801603  0.602410\n",
      "4     5  0.840650  0.782543   0.873016  0.661654\n",
      "\n",
      "Average metrics across all folds:\n",
      "fold         3.000000\n",
      "loss         0.894632\n",
      "accuracy     0.751806\n",
      "precision    0.816789\n",
      "recall       0.651911\n",
      "dtype: float64\n"
     ]
    }
   ],
   "source": [
    "# Print the model results\n",
    "metrics_df = pd.DataFrame(fold_metrics)\n",
    "\n",
    "print(\"\\nCross-Validation Results:\")\n",
    "print(metrics_df)\n",
    "print(\"\\nAverage metrics across all folds:\")\n",
    "print(metrics_df.mean())"
   ]
  }
 ],
 "metadata": {
  "kernelspec": {
   "display_name": "predictive-maintenance",
   "language": "python",
   "name": "predictive-maintenance"
  },
  "language_info": {
   "codemirror_mode": {
    "name": "ipython",
    "version": 3
   },
   "file_extension": ".py",
   "mimetype": "text/x-python",
   "name": "python",
   "nbconvert_exporter": "python",
   "pygments_lexer": "ipython3",
   "version": "3.8.10"
  }
 },
 "nbformat": 4,
 "nbformat_minor": 5
}
