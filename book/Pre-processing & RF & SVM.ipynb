{
 "cells": [
  {
   "cell_type": "markdown",
   "id": "eb394079-72dd-4a23-95d6-2458c0b8ff2e",
   "metadata": {},
   "source": [
    "# Pre-processing"
   ]
  },
  {
   "cell_type": "markdown",
   "id": "e18cc15d-3282-4524-97b8-8c685e8ad7cc",
   "metadata": {},
   "source": [
    "### Data loading"
   ]
  },
  {
   "cell_type": "code",
   "execution_count": 3,
   "id": "3170bf71-f435-422e-bfd3-4b0ec3cf3af5",
   "metadata": {},
   "outputs": [],
   "source": [
    "import pandas as pd\n",
    "\n",
    "df = pd.read_parquet('./../data/dataset.parquet', engine='pyarrow')"
   ]
  },
  {
   "cell_type": "code",
   "execution_count": 4,
   "id": "c61a804e-d44b-470c-b97d-8a4bac4a2b95",
   "metadata": {},
   "outputs": [
    {
     "data": {
      "text/plain": [
       "(679045, 17)"
      ]
     },
     "execution_count": 4,
     "metadata": {},
     "output_type": "execute_result"
    }
   ],
   "source": [
    "# Check the dataset has been imported correctly\n",
    "df.shape"
   ]
  },
  {
   "cell_type": "markdown",
   "id": "5ef65f52-9928-41d0-a2f5-3094282f1f2b",
   "metadata": {},
   "source": [
    "### Dataset partition"
   ]
  },
  {
   "cell_type": "markdown",
   "id": "b252accd-7f65-4cb9-8333-3683cfed2926",
   "metadata": {},
   "source": [
    "This project objective to train models in oder to predict future `alert_11` values. However, it does not stop at the model creation. A website will be implemented "
   ]
  },
  {
   "cell_type": "markdown",
   "id": "753d6b30-d0a1-45d6-9b6f-6ecd23162eb3",
   "metadata": {},
   "source": [
    "## Pre-processing steps"
   ]
  },
  {
   "cell_type": "markdown",
   "id": "c609f677-6039-4342-90c8-1b72a4b4315b",
   "metadata": {},
   "source": [
    "### Dataset optimisation"
   ]
  },
  {
   "cell_type": "markdown",
   "id": "ce45a5e4-542b-4d11-8254-b2c520dabb46",
   "metadata": {},
   "source": [
    "The dataset has previously been utilised in a predictive maintenance study (*docs/introduction_paper*). In fact, it was retrieved directly from the GitHub repository associated with that study. To fully understand the dataset, it is essential to refer to the corresponding research paper, which indicates that the data has already undergone pre-processing. The paper states:  \n",
    "\n",
    "> Depending on the changes detected by sensors, the irregular sampling time is addressed by resampling the time series with a frequency of 5 seconds, which gives a good trade-off between memory occupation and signal resolution. Missing values are filled in using the last available observation because the absence of new measurements indicates no change in the recorded value.  \n",
    "\n",
    "Additionally, the paper highlights the origanl presence of more that one **alert code**. However, due to the following reasons, only `alert_11` is kept in the dataset:  \n",
    "\n",
    "> Figure 1 presents the distribution of the alert codes most relevant according to the manufacturer. Most of them are rare (i.e., are observed less than 10 times), and alerts 11 (platform motor inverter protection) and 34 (machine in emergency condition) are the most common ones. Alert 34 is thrown when the operator presses an emergency button. However, this occurrence heavily depends on human behavior because the operators often use the emergency button as a quick way to turn the machine off, as confirmed by the plant manager. For this reason, alert 34 is discarded, and the prediction task focuses only on alert 11.  \n",
    "\n",
    "Furthermore, an important insight from the paper is that `session_counter` was not part of the original machine-generated dataset. Instead, it was an engineered feature introduced by the study, with its implementation outlined in the paper through pseudo-code:  \n",
    "\n",
    "> Intuitively, a session start time is introduced when at least one motion variable increases its value, and a session end time is created when all motion variables have decreased their value in the last ten minutes. Algorithm 1 specifies how sessions are defined.  \n",
    "\n",
    "Based on this information, it is evident that both `time_to_failure` and `session_counter` are not relevant to the classification task. Consequently, these features will be removed during the pre-processing stage to ensure a more efficient and meaningful analysis."
   ]
  },
  {
   "cell_type": "code",
   "execution_count": 5,
   "id": "0b0a04c5-45fd-4992-b9bf-59a04d76807d",
   "metadata": {},
   "outputs": [],
   "source": [
    "df.drop(columns=['session_counter', 'time_to_failure'], inplace=True)"
   ]
  },
  {
   "cell_type": "code",
   "execution_count": 6,
   "id": "31978091-abaf-4a28-9fcb-d393588b8ad6",
   "metadata": {},
   "outputs": [
    {
     "data": {
      "text/html": [
       "<div>\n",
       "<style scoped>\n",
       "    .dataframe tbody tr th:only-of-type {\n",
       "        vertical-align: middle;\n",
       "    }\n",
       "\n",
       "    .dataframe tbody tr th {\n",
       "        vertical-align: top;\n",
       "    }\n",
       "\n",
       "    .dataframe thead th {\n",
       "        text-align: right;\n",
       "    }\n",
       "</style>\n",
       "<table border=\"1\" class=\"dataframe\">\n",
       "  <thead>\n",
       "    <tr style=\"text-align: right;\">\n",
       "      <th></th>\n",
       "      <th>Timestamp</th>\n",
       "      <th>Flag roping</th>\n",
       "      <th>Platform Position [°]</th>\n",
       "      <th>Platform Motor frequency [HZ]</th>\n",
       "      <th>Temperature platform drive [°C]</th>\n",
       "      <th>Temperature slave drive [°C]</th>\n",
       "      <th>Temperature hoist drive [°C]</th>\n",
       "      <th>Tensione totale film [%]</th>\n",
       "      <th>Current speed cart [%]</th>\n",
       "      <th>Platform motor speed [%]</th>\n",
       "      <th>Lifting motor speed [RPM]</th>\n",
       "      <th>Platform rotation speed [RPM]</th>\n",
       "      <th>Slave rotation speed [M/MIN]</th>\n",
       "      <th>Lifting speed rotation [M/MIN]</th>\n",
       "      <th>alert_11</th>\n",
       "    </tr>\n",
       "  </thead>\n",
       "  <tbody>\n",
       "    <tr>\n",
       "      <th>0</th>\n",
       "      <td>2021-06-07 04:14:30.742</td>\n",
       "      <td>31.0</td>\n",
       "      <td>115.0</td>\n",
       "      <td>5200.0</td>\n",
       "      <td>18.0</td>\n",
       "      <td>22.0</td>\n",
       "      <td>18.0</td>\n",
       "      <td>181.0</td>\n",
       "      <td>0.0</td>\n",
       "      <td>100.0</td>\n",
       "      <td>0.0</td>\n",
       "      <td>84.0</td>\n",
       "      <td>116.0</td>\n",
       "      <td>0.0</td>\n",
       "      <td>0.0</td>\n",
       "    </tr>\n",
       "    <tr>\n",
       "      <th>1</th>\n",
       "      <td>2021-06-07 04:14:35.742</td>\n",
       "      <td>31.0</td>\n",
       "      <td>115.0</td>\n",
       "      <td>5200.0</td>\n",
       "      <td>18.0</td>\n",
       "      <td>22.0</td>\n",
       "      <td>18.0</td>\n",
       "      <td>181.0</td>\n",
       "      <td>0.0</td>\n",
       "      <td>100.0</td>\n",
       "      <td>0.0</td>\n",
       "      <td>84.0</td>\n",
       "      <td>116.0</td>\n",
       "      <td>0.0</td>\n",
       "      <td>0.0</td>\n",
       "    </tr>\n",
       "    <tr>\n",
       "      <th>2</th>\n",
       "      <td>2021-06-07 04:14:40.742</td>\n",
       "      <td>31.0</td>\n",
       "      <td>115.0</td>\n",
       "      <td>5200.0</td>\n",
       "      <td>18.0</td>\n",
       "      <td>22.0</td>\n",
       "      <td>18.0</td>\n",
       "      <td>181.0</td>\n",
       "      <td>0.0</td>\n",
       "      <td>100.0</td>\n",
       "      <td>0.0</td>\n",
       "      <td>84.0</td>\n",
       "      <td>116.0</td>\n",
       "      <td>0.0</td>\n",
       "      <td>0.0</td>\n",
       "    </tr>\n",
       "    <tr>\n",
       "      <th>3</th>\n",
       "      <td>2021-06-07 04:14:45.742</td>\n",
       "      <td>31.0</td>\n",
       "      <td>115.0</td>\n",
       "      <td>5200.0</td>\n",
       "      <td>18.0</td>\n",
       "      <td>22.0</td>\n",
       "      <td>18.0</td>\n",
       "      <td>181.0</td>\n",
       "      <td>0.0</td>\n",
       "      <td>100.0</td>\n",
       "      <td>0.0</td>\n",
       "      <td>84.0</td>\n",
       "      <td>116.0</td>\n",
       "      <td>0.0</td>\n",
       "      <td>0.0</td>\n",
       "    </tr>\n",
       "    <tr>\n",
       "      <th>4</th>\n",
       "      <td>2021-06-07 04:14:50.742</td>\n",
       "      <td>31.0</td>\n",
       "      <td>115.0</td>\n",
       "      <td>5200.0</td>\n",
       "      <td>18.0</td>\n",
       "      <td>22.0</td>\n",
       "      <td>18.0</td>\n",
       "      <td>181.0</td>\n",
       "      <td>0.0</td>\n",
       "      <td>100.0</td>\n",
       "      <td>0.0</td>\n",
       "      <td>84.0</td>\n",
       "      <td>116.0</td>\n",
       "      <td>0.0</td>\n",
       "      <td>0.0</td>\n",
       "    </tr>\n",
       "  </tbody>\n",
       "</table>\n",
       "</div>"
      ],
      "text/plain": [
       "                Timestamp  Flag roping  Platform Position [°]  \\\n",
       "0 2021-06-07 04:14:30.742         31.0                  115.0   \n",
       "1 2021-06-07 04:14:35.742         31.0                  115.0   \n",
       "2 2021-06-07 04:14:40.742         31.0                  115.0   \n",
       "3 2021-06-07 04:14:45.742         31.0                  115.0   \n",
       "4 2021-06-07 04:14:50.742         31.0                  115.0   \n",
       "\n",
       "   Platform Motor frequency [HZ]  Temperature platform drive [°C]  \\\n",
       "0                         5200.0                             18.0   \n",
       "1                         5200.0                             18.0   \n",
       "2                         5200.0                             18.0   \n",
       "3                         5200.0                             18.0   \n",
       "4                         5200.0                             18.0   \n",
       "\n",
       "   Temperature slave drive [°C]  Temperature hoist drive [°C]  \\\n",
       "0                          22.0                          18.0   \n",
       "1                          22.0                          18.0   \n",
       "2                          22.0                          18.0   \n",
       "3                          22.0                          18.0   \n",
       "4                          22.0                          18.0   \n",
       "\n",
       "   Tensione totale film [%]  Current speed cart [%]  Platform motor speed [%]  \\\n",
       "0                     181.0                     0.0                     100.0   \n",
       "1                     181.0                     0.0                     100.0   \n",
       "2                     181.0                     0.0                     100.0   \n",
       "3                     181.0                     0.0                     100.0   \n",
       "4                     181.0                     0.0                     100.0   \n",
       "\n",
       "   Lifting motor speed [RPM]  Platform rotation speed [RPM]  \\\n",
       "0                        0.0                           84.0   \n",
       "1                        0.0                           84.0   \n",
       "2                        0.0                           84.0   \n",
       "3                        0.0                           84.0   \n",
       "4                        0.0                           84.0   \n",
       "\n",
       "   Slave rotation speed [M/MIN]  Lifting speed rotation [M/MIN]  alert_11  \n",
       "0                         116.0                             0.0       0.0  \n",
       "1                         116.0                             0.0       0.0  \n",
       "2                         116.0                             0.0       0.0  \n",
       "3                         116.0                             0.0       0.0  \n",
       "4                         116.0                             0.0       0.0  "
      ]
     },
     "execution_count": 6,
     "metadata": {},
     "output_type": "execute_result"
    }
   ],
   "source": [
    "# Display the dataset to ensure the columns have been removed\n",
    "df.head()"
   ]
  },
  {
   "cell_type": "markdown",
   "id": "f5d96e21-636e-4c0f-be65-0724e9cc4fc2",
   "metadata": {},
   "source": [
    "As is common in most time-series datasets, the `Timestamp` column is set as the index of the dataset. This allows for efficient time-based operations, such as resampling, sliding window calculations, and trend analysis, while preserving the chronological structure of the data."
   ]
  },
  {
   "cell_type": "code",
   "execution_count": 7,
   "id": "4bc23f7f-c381-424b-a9ee-3c8bdb86e847",
   "metadata": {},
   "outputs": [],
   "source": [
    "df.set_index('Timestamp', inplace=True)"
   ]
  },
  {
   "cell_type": "code",
   "execution_count": 8,
   "id": "88cd5111-517c-4b41-8055-ceb8f9dd94c5",
   "metadata": {},
   "outputs": [
    {
     "data": {
      "text/plain": [
       "'Timestamp'"
      ]
     },
     "execution_count": 8,
     "metadata": {},
     "output_type": "execute_result"
    }
   ],
   "source": [
    "# Check if Timestamp has become the index of the dataset\n",
    "df.index.name"
   ]
  },
  {
   "cell_type": "markdown",
   "id": "02fb645f-f3b9-410b-a6c8-b3f01e892032",
   "metadata": {},
   "source": [
    "### Features extraction"
   ]
  },
  {
   "cell_type": "markdown",
   "id": "7090b9cc-b16c-4d84-b11d-bcf280bf46c3",
   "metadata": {},
   "source": [
    "In this section, the label (`y`) and the features (`X`) for the models are defined, with `alert_11` serving as the target variable and all other columns being designated as features. This decision is based on the fact that `alert_11` represents the primary event of interest, aligning with the study’s objective. By including all other columns as features, the models can leverage the full range of available sensor data to identify patterns and relationships that may contribute to predicting `alert_11`."
   ]
  },
  {
   "cell_type": "code",
   "execution_count": 9,
   "id": "9cc31d39-dd4d-4f50-a1b1-ba0d7727e14e",
   "metadata": {},
   "outputs": [
    {
     "name": "stdout",
     "output_type": "stream",
     "text": [
      "-> Label (shape=(1,)): ['alert_11']\n",
      "-> Features (shape=(13,)): ['Current speed cart [%]' 'Flag roping' 'Lifting motor speed [RPM]'\n",
      " 'Lifting speed rotation [M/MIN]' 'Platform Motor frequency [HZ]'\n",
      " 'Platform Position [°]' 'Platform motor speed [%]'\n",
      " 'Platform rotation speed [RPM]' 'Slave rotation speed [M/MIN]'\n",
      " 'Temperature hoist drive [°C]' 'Temperature platform drive [°C]'\n",
      " 'Temperature slave drive [°C]' 'Tensione totale film [%]']\n"
     ]
    }
   ],
   "source": [
    "# State the label and the features\n",
    "import numpy as np\n",
    "\n",
    "label = np.array(['alert_11'])\n",
    "features = np.array(df.columns.difference(label))\n",
    "\n",
    "print(f\"-> Label (shape={label.shape}): {label}\")\n",
    "print(f\"-> Features (shape={features.shape}): {features}\")"
   ]
  },
  {
   "cell_type": "code",
   "execution_count": 10,
   "id": "a86d5c3e-2b1c-408d-8906-3ee7a7efaab6",
   "metadata": {},
   "outputs": [
    {
     "name": "stdout",
     "output_type": "stream",
     "text": [
      "-> X (shape=(679045, 13))\n",
      "-> y (shape=(679045, 1))\n"
     ]
    }
   ],
   "source": [
    "# Extract and assign the label and the features, X and y\n",
    "X = df[features]\n",
    "y = df[label]\n",
    "\n",
    "print(f\"-> X (shape={X.shape})\")\n",
    "print(f\"-> y (shape={y.shape})\")"
   ]
  },
  {
   "cell_type": "markdown",
   "id": "061689bf-1bf0-447c-ad3b-209193404058",
   "metadata": {},
   "source": [
    "### Sliding window"
   ]
  },
  {
   "cell_type": "markdown",
   "id": "776db7a0-72dd-4833-9f4f-b31162f6ddad",
   "metadata": {},
   "source": [
    "Creating sliding windows as a pre-processing step is essential for capturing temporal dependencies in the dataset, allowing the model to analyse sequences of past sensor readings rather than isolated time points. \n",
    "Since machine failures and alerts often develop gradually, a single timestamp may not provide enough context for accurate predictions. However, by structuring the data into overlapping time windows, the model can learn meaningful trends and relationships that contribute to the occurrence of `alert_11`. \n",
    "This approach mimics real-world decision-making, where operators and automated systems consider historical data before identifying potential issues. \n",
    "Additionally, sliding windows help handle lag effects, ensuring that early warning signs (such as changes in temperature, speed, or vibrations) are accounted for. Furthermore, this method prevents data leakage by ensuring that predictions rely only on past information, making the model more robust for real-world deployment."
   ]
  },
  {
   "cell_type": "code",
   "execution_count": 11,
   "id": "da8b7171-6e07-4b39-9c09-9680255d68fe",
   "metadata": {},
   "outputs": [],
   "source": [
    "# Prepare the label and features for the window\n",
    "X = X.to_numpy()\n",
    "y = y.to_numpy().flatten()"
   ]
  },
  {
   "cell_type": "code",
   "execution_count": 12,
   "id": "6a2f4917-3391-4816-8fb2-f34bba3c5e0d",
   "metadata": {},
   "outputs": [],
   "source": [
    "# Create the window\n",
    "import numpy as np\n",
    "\n",
    "def window(X_data, y_data, width: int, shift: int):\n",
    "\n",
    "    X_wins, y_wins = [], []\n",
    "\n",
    "    for index, (X, y) in enumerate(zip(X_data, y_data)):\n",
    "        if (index + width + shift) <= X_data.shape[0]:\n",
    "\n",
    "            window = slice((index + width), (index + width + shift))\n",
    "\n",
    "            X_wins.append(X_data[index: index + width])\n",
    "\n",
    "            y_values_shift = y_data[window]\n",
    "            y_wins.append(int(np.any(y_values_shift == 1)))\n",
    "\n",
    "    X_wins = np.array(X_wins)\n",
    "    y_wins = np.array(y_wins)\n",
    "    return X_wins.reshape(X_wins.shape[0], -1), y_wins.flatten()"
   ]
  },
  {
   "cell_type": "code",
   "execution_count": 13,
   "id": "9c9b467a-5ccf-4e6c-825a-700ca9d5ec8e",
   "metadata": {},
   "outputs": [],
   "source": [
    "# State the variables and the size of the window\n",
    "X_wins, y_wins = window(X, y, width=120, shift=180)"
   ]
  },
  {
   "cell_type": "markdown",
   "id": "8523428f-4291-4f53-8839-71f1ba293029",
   "metadata": {},
   "source": [
    "### Random Under Sampler (RUS)"
   ]
  },
  {
   "cell_type": "markdown",
   "id": "c8ac5eea-531d-4065-8a3e-bc3af95f0934",
   "metadata": {},
   "source": [
    "As stated in the paper:  \n",
    "\n",
    "> Alerts are anomalies and thus, by definition, rarer than normal behaviors.  \n",
    "\n",
    "This observation is supported by the exploratory data analysis (EDA) conducted in this study, which confirms that the dataset is highly imbalanced. Specifically, `alert_11` consists of **677,652 instances of 0s** and only **1,393 instances of 1s**, corresponding to **99.8%** and **0.2%** of the dataset, respectively.  \n",
    "\n",
    "This class imbalance issue was also acknowledged in the paper. Given that our study shares the same objective, **Random Undersampling (RUS)** is considered an appropriate method for balancing the dataset. As described in the paper:  \n",
    "\n",
    "> The algorithm (RUS) randomly selects and removes observations from the majority class until it achieves the desired equilibrium between the two classes. In the case of the wrapping machine, RUS is applied separately on each train set (comprising 4 folds) and test set (1 fold) for each combination of RW and PW sizes, to prevent the presence of similar data in the train and test sets (i.e., partially overlapping data).  \n",
    "\n",
    "By employing RUS to the **sliding window** data, we ensure that the models are trained on a more balanced dataset, reducing the bias toward the majority class (`alert_11 = 0`) and improving its ability to correctly predict rare alert occurrences."
   ]
  },
  {
   "cell_type": "code",
   "execution_count": 14,
   "id": "d08eb9a0-40c9-415a-86fd-571a9d592aee",
   "metadata": {},
   "outputs": [
    {
     "data": {
      "text/plain": [
       "(array([0, 1]), array([3324, 3324]))"
      ]
     },
     "execution_count": 14,
     "metadata": {},
     "output_type": "execute_result"
    }
   ],
   "source": [
    "from imblearn.under_sampling import RandomUnderSampler\n",
    "\n",
    "rus = RandomUnderSampler(random_state=42)\n",
    "\n",
    "X_res, y_res = rus.fit_resample(X_wins, y_wins)\n",
    "np.unique(y_res, return_counts=True)"
   ]
  },
  {
   "cell_type": "markdown",
   "id": "f3cedda7-e288-48ed-b7ae-013bdccf7573",
   "metadata": {},
   "source": [
    "# Modelling"
   ]
  },
  {
   "cell_type": "markdown",
   "id": "3812de4e-d69b-49cb-ad08-3f10774e8265",
   "metadata": {},
   "source": [
    "To establish the credibility of this study, three models from the original research are implemented in this section. However, it is important to emphasise that this study is not merely a replication of the dataset-associated paper. While the objectives and methodological approaches remain the same, the **techniques** and **models** **implementations differs significantly** from the original study.  \n",
    "\n",
    "One key distinction is that the code in this study is designed to be **simpler and more accessible**, making it easier to understand compared to the implementation in the paper’s GitHub repository ([GitHub Repository](https://github.com/nicolopinci/polimi_failure_prediction)). Despite its simplified approach, the effectiveness of this study remains uncompromised, as the results align closely with those presented in the original research.  \n",
    "\n",
    "By incorporating both **traditional machine learning models (RF, SVM) and a deep learning approach (LSTM)**, this study provides a comprehensive evaluation of different techniques in predictive maintenance, ensuring a well-rounded assessment of classification performance on the given dataset."
   ]
  },
  {
   "cell_type": "markdown",
   "id": "7697d478-96ce-4ad5-98f5-91043136c3cf",
   "metadata": {},
   "source": [
    "Since this is a classification task, all models will be evaluated using **accuracy, precision, recall, and F1-score**, as these metrics provide a comprehensive assessment of model performance, particularly in detecting rare alert occurrences.  \n",
    "\n",
    "Additionally, **5-fold cross-validation** will be used for model validation. This choice aligns with the methodology of the original study, as the goal of this project is to obtain results as comparable as possible to those in the paper. The original study justifies the use of k-fold cross-validation by stating:  \n",
    "\n",
    "> The validation procedure is also adapted to the characteristics of the different use cases. In the wrapping machine dataset, there are only 13 alarms, which yield ≈500 failure RWs in the whole time series. Thus, the number of failure RWs in the test set would be too small to test adequately the performances. Thus, we adopt a training and evaluation procedure based on k-fold cross-validation (with k = 5). "
   ]
  },
  {
   "cell_type": "markdown",
   "id": "e8dd3a25-a6ff-4b20-a36b-16f9e09cf145",
   "metadata": {},
   "source": [
    "### Random Forest (RF)"
   ]
  },
  {
   "cell_type": "code",
   "execution_count": 15,
   "id": "e1b89925-95fe-41a6-a863-d1f500b335bd",
   "metadata": {},
   "outputs": [],
   "source": [
    "# Model implementation\n",
    "from sklearn.ensemble import RandomForestClassifier\n",
    "\n",
    "rf_model = RandomForestClassifier(random_state=42)"
   ]
  },
  {
   "cell_type": "code",
   "execution_count": 16,
   "id": "04356616-40ee-42c7-9f47-164f9f1483ee",
   "metadata": {},
   "outputs": [
    {
     "data": {
      "text/plain": [
       "0.6466341927052394"
      ]
     },
     "execution_count": 16,
     "metadata": {},
     "output_type": "execute_result"
    }
   ],
   "source": [
    "# Implement 5-fold-cross-validation on the model\n",
    "from sklearn.model_selection import cross_val_score\n",
    "\n",
    "scores = cross_val_score(rf_model, X_res, y_res, cv=5)\n",
    "\n",
    "# Return the mean accuracy of the folders\n",
    "scores.mean()"
   ]
  },
  {
   "cell_type": "code",
   "execution_count": 17,
   "id": "eaafeb25-befa-42f9-8f83-137b7f05621e",
   "metadata": {},
   "outputs": [
    {
     "name": "stdout",
     "output_type": "stream",
     "text": [
      "              precision    recall  f1-score   support\n",
      "\n",
      "           0       0.59      0.99      0.74      3324\n",
      "           1       0.97      0.30      0.46      3324\n",
      "\n",
      "    accuracy                           0.65      6648\n",
      "   macro avg       0.78      0.65      0.60      6648\n",
      "weighted avg       0.78      0.65      0.60      6648\n",
      "\n"
     ]
    }
   ],
   "source": [
    "# Print model report\n",
    "from sklearn.model_selection import cross_val_predict\n",
    "from sklearn.metrics import classification_report\n",
    "\n",
    "y_pred = cross_val_predict(rf_model, X_res, y_res, cv=5)\n",
    "print(classification_report(y_res, y_pred))"
   ]
  },
  {
   "cell_type": "code",
   "execution_count": 18,
   "id": "e22796cc-1023-4f5c-9547-ba0e8fe97929",
   "metadata": {},
   "outputs": [
    {
     "data": {
      "image/png": "[encoded data removed]",
      "text/plain": [
       "<Figure size 800x600 with 2 Axes>"
      ]
     },
     "metadata": {},
     "output_type": "display_data"
    }
   ],
   "source": [
    "# Comfusion matrix\n",
    "from sklearn.metrics import confusion_matrix\n",
    "import seaborn as sns\n",
    "import matplotlib.pyplot as plt\n",
    "\n",
    "cm = confusion_matrix(y_res, y_pred)\n",
    "\n",
    "plt.figure(figsize=(8, 6))\n",
    "sns.heatmap(cm, annot=True, fmt='d', cmap='Blues', \n",
    "            xticklabels=['Predicted 0', 'Predicted 1'], \n",
    "            yticklabels=['Actual 0', 'Actual 1'])\n",
    "plt.title('Confusion Matrix for Random Forest')\n",
    "plt.xlabel('Predicted Labels')\n",
    "plt.ylabel('True Labels')\n",
    "plt.show()"
   ]
  },
  {
   "cell_type": "markdown",
   "id": "5ad3f601-2b8a-4dd5-bd62-344be07a41b5",
   "metadata": {},
   "source": [
    "### Support Vector Machine (SVM)"
   ]
  },
  {
   "cell_type": "code",
   "execution_count": 19,
   "id": "58e79c9d-2503-46e6-85d9-c94c2a4e699e",
   "metadata": {},
   "outputs": [],
   "source": [
    "# Build the model \n",
    "from sklearn.svm import SVC\n",
    "\n",
    "svm_model = SVC(random_state=42)"
   ]
  },
  {
   "cell_type": "code",
   "execution_count": 20,
   "id": "2c2185d4-ca76-46c0-975f-9f4296bf929e",
   "metadata": {},
   "outputs": [
    {
     "data": {
      "text/plain": [
       "0.5917232132249359"
      ]
     },
     "execution_count": 20,
     "metadata": {},
     "output_type": "execute_result"
    }
   ],
   "source": [
    "# Train and validate the model\n",
    "from sklearn.model_selection import cross_val_score\n",
    "\n",
    "svm_scores = cross_val_score(svm_model, X_res, y_res, cv=5)\n",
    "svm_scores.mean()"
   ]
  },
  {
   "cell_type": "code",
   "execution_count": 21,
   "id": "b5816a62-fbbb-4622-9017-538b17f59573",
   "metadata": {},
   "outputs": [
    {
     "name": "stdout",
     "output_type": "stream",
     "text": [
      "              precision    recall  f1-score   support\n",
      "\n",
      "           0       0.56      0.89      0.69      3324\n",
      "           1       0.73      0.29      0.41      3324\n",
      "\n",
      "    accuracy                           0.59      6648\n",
      "   macro avg       0.64      0.59      0.55      6648\n",
      "weighted avg       0.64      0.59      0.55      6648\n",
      "\n"
     ]
    }
   ],
   "source": [
    "# Print model report\n",
    "from sklearn.model_selection import cross_val_predict\n",
    "from sklearn.metrics import classification_report\n",
    "\n",
    "svm_y_pred = cross_val_predict(svm_model, X_res, y_res, cv=5)\n",
    "print(classification_report(y_res, svm_y_pred))"
   ]
  },
  {
   "cell_type": "code",
   "execution_count": 22,
   "id": "c50eac6d-5f1d-4b6e-8438-6eb2d0f7e6a7",
   "metadata": {},
   "outputs": [
    {
     "data": {
      "image/png": "[encoded data removed]",
      "text/plain": [
       "<Figure size 800x600 with 2 Axes>"
      ]
     },
     "metadata": {},
     "output_type": "display_data"
    }
   ],
   "source": [
    "# Comfusion matrix\n",
    "from sklearn.metrics import confusion_matrix\n",
    "import seaborn as sns\n",
    "import matplotlib.pyplot as plt\n",
    "\n",
    "svm_cm = confusion_matrix(y_res, svm_y_pred)\n",
    "plt.figure(figsize=(8, 6))\n",
    "sns.heatmap(svm_cm, annot=True, fmt=\"d\", cmap=\"Blues\", \n",
    "            xticklabels=['Predicted 0', 'Predicted 1'], \n",
    "            yticklabels=['Actual 0', 'Actual 1'])\n",
    "plt.title('SVM Confusion Matrix')\n",
    "plt.xlabel('Predicted Label')\n",
    "plt.ylabel('True Label')\n",
    "plt.show()"
   ]
  },
  {
   "cell_type": "markdown",
   "id": "a6d5589b-0878-4553-b99e-08d3d38547ef",
   "metadata": {},
   "source": [
    "# EXTRA"
   ]
  },
  {
   "cell_type": "code",
   "execution_count": 5,
   "id": "68da7208-a0b4-4e3b-a710-78a8508f66c1",
   "metadata": {},
   "outputs": [],
   "source": [
    "import numpy as np \n",
    "\n",
    "def window(X_data, y_data, width: int, shift: int):\n",
    "    \n",
    "    X_wins, y_wins = [], []\n",
    "\n",
    "    for index, (X, y) in enumerate(zip(X_data, y_data)):\n",
    "        if (index + width + shift) <= X_data.shape[0]:\n",
    "\n",
    "            window = slice((index + width), (index + width + shift))\n",
    "\n",
    "            X_wins.append(X_data[index: index + width])\n",
    "\n",
    "            y_values_shift = y_data[window]\n",
    "            y_wins.append(int(np.any(y_values_shift == 1)))\n",
    "\n",
    "    X_wins = np.array(X_wins)\n",
    "    y_wins = np.array(y_wins)\n",
    "    return X_wins.reshape(X_wins.shape[0], -1), y_wins.flatten()"
   ]
  },
  {
   "cell_type": "code",
   "execution_count": 6,
   "id": "0ce9a242-931d-4dd7-9739-7fc3ba4afd03",
   "metadata": {},
   "outputs": [],
   "source": [
    "X_wins, y_wins = window(X, y, width=120, shift=180)"
   ]
  },
  {
   "cell_type": "code",
   "execution_count": 7,
   "id": "3089d829-4c9b-4e99-8ec9-1f9331e20c81",
   "metadata": {},
   "outputs": [
    {
     "name": "stdout",
     "output_type": "stream",
     "text": [
      "-> X:\t(678746, 1560)\n",
      "-> y:\t(678746,)\n"
     ]
    }
   ],
   "source": [
    "print(f\"-> X:\\t{X_wins.shape}\")\n",
    "print(f\"-> y:\\t{y_wins.shape}\")"
   ]
  },
  {
   "cell_type": "markdown",
   "id": "3fb2be7c-b56c-46be-9034-642ca9347aab",
   "metadata": {},
   "source": [
    "## Undersampling"
   ]
  },
  {
   "cell_type": "code",
   "execution_count": 8,
   "id": "4de763c1-7541-47b6-a0b5-e39e6f063140",
   "metadata": {},
   "outputs": [],
   "source": [
    "from imblearn.under_sampling import RandomUnderSampler\n",
    "\n",
    "rus = RandomUnderSampler(random_state=0)\n",
    "\n",
    "X_res, y_res = rus.fit_resample(X_wins, y_wins)"
   ]
  },
  {
   "cell_type": "code",
   "execution_count": 9,
   "id": "46a12c77-4ef5-4e4a-92a9-79bbf208b72d",
   "metadata": {},
   "outputs": [],
   "source": [
    "classes, distribution = np.unique(y_res, return_counts=True)"
   ]
  },
  {
   "cell_type": "code",
   "execution_count": 10,
   "id": "21084b51-9fa6-4569-8640-768900046fbb",
   "metadata": {},
   "outputs": [
    {
     "name": "stdout",
     "output_type": "stream",
     "text": [
      "-> X_res:\t(6648, 1560)\n",
      "-> y_res:\t(6648,)\n"
     ]
    }
   ],
   "source": [
    "print(f\"-> X_res:\\t{X_res.shape}\")\n",
    "print(f\"-> y_res:\\t{y_res.shape}\")"
   ]
  },
  {
   "cell_type": "code",
   "execution_count": 11,
   "id": "335c2132-8ef2-4251-a01e-3b4963f4530c",
   "metadata": {},
   "outputs": [
    {
     "name": "stdout",
     "output_type": "stream",
     "text": [
      "-> 0:\t3324\n",
      "-> 1:\t3324\n"
     ]
    }
   ],
   "source": [
    "print(f\"-> {classes[0]}:\\t{distribution[0]}\")\n",
    "print(f\"-> {classes[1]}:\\t{distribution[1]}\")"
   ]
  },
  {
   "cell_type": "markdown",
   "id": "314391ab-5203-4385-8d90-d3b85b09b317",
   "metadata": {},
   "source": [
    "## Models"
   ]
  },
  {
   "cell_type": "markdown",
   "id": "185fbabf-8a85-4522-b78b-37013a72ab9d",
   "metadata": {},
   "source": [
    "Random Forest"
   ]
  },
  {
   "cell_type": "code",
   "execution_count": 21,
   "id": "f9c43d7d-20f8-43a4-a7cf-06bf3b211bd8",
   "metadata": {},
   "outputs": [],
   "source": [
    "from sklearn.ensemble import RandomForestClassifier\n",
    "\n",
    "rf = RandomForestClassifier(n_estimators=100, random_state=1234)"
   ]
  },
  {
   "cell_type": "markdown",
   "id": "51af53a7-f19a-41a6-99f7-f1c522c3a5e0",
   "metadata": {},
   "source": [
    "SVM (Support Vector Machine)."
   ]
  },
  {
   "cell_type": "code",
   "execution_count": 13,
   "id": "789e2b3c-d84c-4c94-a77f-85068c78f478",
   "metadata": {},
   "outputs": [],
   "source": [
    "from sklearn.svm import SVC\n",
    "\n",
    "svc = SVC(random_state=1234, C=1)"
   ]
  },
  {
   "cell_type": "markdown",
   "id": "6bc26acf-e630-46a8-bd57-a53af3fbafeb",
   "metadata": {},
   "source": [
    "LSTM (Long Short-Term Memory)"
   ]
  },
  {
   "cell_type": "code",
   "execution_count": null,
   "id": "44bb191a-cef2-4574-a90e-989d6d2ce90b",
   "metadata": {},
   "outputs": [],
   "source": [
    "X = df[features].to_numpy()\n",
    "y = df[label].to_numpy().flatten()\n",
    "\n",
    "X_wins, y_wins = window(X, y, width=120, shift=180)\n",
    "X_res, y_res = rus.fit_resample(X_wins, y_wins)\n",
    "\n",
    "train_size = int(1 - 0.3 * y_res.shape[0])\n",
    "X_train, X_test = np.array(X_res[0: train_size]), np.array(X_res[train_size:])\n",
    "y_train, y_test = y_res[0: train_size], y_res[train_size:]"
   ]
  },
  {
   "cell_type": "code",
   "execution_count": null,
   "id": "9bbffa08-369c-45cd-93aa-895e11a52e9e",
   "metadata": {},
   "outputs": [],
   "source": [
    "print(f\"-> X_train, X_test:\\t{X_train.shape}, {X_test.shape}\")\n",
    "print(f\"-> y_train, y_test:\\t{y_train.shape}, {y_test.shape}\")"
   ]
  },
  {
   "cell_type": "code",
   "execution_count": null,
   "id": "56165e7e-b62d-4461-90f0-59f3e1e63eb9",
   "metadata": {},
   "outputs": [],
   "source": [
    "import tensorflow as tf\n",
    "from tensorflow.keras.models import Sequential\n",
    "from tensorflow.keras.layers import LSTM, Dense\n",
    "\n",
    "\n",
    "model = Sequential()\n",
    "model.add(LSTM(units=128, return_sequences=True, input_shape=(X_train.shape[1], X_train.shape[2])))\n",
    "\n",
    "model.add(LSTM(units=64, return_sequences=True))\n",
    "model.add(LSTM(units=64, return_sequences=True))\n",
    "\n",
    "model.add(Dense(units=1))"
   ]
  },
  {
   "cell_type": "code",
   "execution_count": null,
   "id": "7d2f6c5f-a0aa-4269-adff-4ab537d01482",
   "metadata": {},
   "outputs": [],
   "source": [
    "model.compile(loss='mean_squared_error', optimizer='adam')"
   ]
  },
  {
   "cell_type": "code",
   "execution_count": null,
   "id": "cb461d1f-7e5e-45f9-add0-ff880f7ca933",
   "metadata": {},
   "outputs": [],
   "source": [
    "model.fit(X_train, y_train, epochs=100, batch_size=1, verbose=2)"
   ]
  },
  {
   "cell_type": "code",
   "execution_count": null,
   "id": "b241147a-47f2-4f40-904e-07cf97fa82c3",
   "metadata": {},
   "outputs": [],
   "source": [
    "trainScore = model.evaluate(X_train, y_train, verbose=0)\n",
    "print('Train Score: %.2f MSE (%.2f RMSE)' % (trainScore, math.sqrt(trainScore)))\n",
    "testScore = model.evaluate(X_test, y_test, verbose=0)\n",
    "print('Test Score: %.2f MSE (%.2f RMSE)' % (testScore, math.sqrt(testScore)))"
   ]
  },
  {
   "cell_type": "markdown",
   "id": "51be8bd1-597d-48fa-8be4-8c7a45e07d61",
   "metadata": {},
   "source": [
    "## K-Fold Cross Validation"
   ]
  },
  {
   "cell_type": "code",
   "execution_count": 33,
   "id": "58f490e2-11ae-47d6-aa8e-b1aa61894af0",
   "metadata": {},
   "outputs": [
    {
     "name": "stdout",
     "output_type": "stream",
     "text": [
      "RF:\t0.5670844153272572\n",
      "SVC:\t0.5914213298483229\n"
     ]
    }
   ],
   "source": [
    "from sklearn.model_selection import cross_val_score, StratifiedKFold\n",
    "\n",
    "skf = StratifiedKFold(n_splits=5)\n",
    "\n",
    "scores = cross_val_score(rf, X_res, y_res, cv=skf)\n",
    "print(f\"RF:\\t{scores.mean()}\")\n",
    "\n",
    "scores = cross_val_score(svc, X_res, y_res, cv=skf)\n",
    "print(f\"SVC:\\t{scores.mean()}\")\n",
    "\n",
    "# scores = cross_val_score(lstm, X_res, y_res, cv=skf)\n",
    "# print(f\"LSTM:\\t{scores.mean()}\")"
   ]
  }
 ],
 "metadata": {
  "kernelspec": {
   "display_name": "predictive-maintenance",
   "language": "python",
   "name": "predictive-maintenance"
  },
  "language_info": {
   "codemirror_mode": {
    "name": "ipython",
    "version": 3
   },
   "file_extension": ".py",
   "mimetype": "text/x-python",
   "name": "python",
   "nbconvert_exporter": "python",
   "pygments_lexer": "ipython3",
   "version": "3.8.10"
  }
 },
 "nbformat": 4,
 "nbformat_minor": 5
}
