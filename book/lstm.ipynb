{
 "cells": [
  {
   "cell_type": "code",
   "execution_count": 1,
   "id": "239ef2bd-9c62-4ec1-b5e8-2631183dbc67",
   "metadata": {},
   "outputs": [],
   "source": [
    "import os\n",
    "os.environ['TF_CPP_MIN_LOG_LEVEL'] = '2'"
   ]
  },
  {
   "cell_type": "code",
   "execution_count": 2,
   "id": "c0129de7-96db-4b2e-afd8-798c6456bffd",
   "metadata": {},
   "outputs": [],
   "source": [
    "import pandas as pd\n",
    "\n",
    "df = pd.read_parquet('../data/dataset.parquet', engine='pyarrow')"
   ]
  },
  {
   "cell_type": "code",
   "execution_count": 3,
   "id": "4040d3cd-52b2-454e-8251-c0aaf2a05ccd",
   "metadata": {},
   "outputs": [],
   "source": [
    "df.drop(columns=['session_counter', 'time_to_failure'], inplace=True)\n",
    "df.set_index('Timestamp', inplace=True)"
   ]
  },
  {
   "cell_type": "code",
   "execution_count": 4,
   "id": "4758ef5e-c51f-4737-83b7-b74da736fd3d",
   "metadata": {},
   "outputs": [],
   "source": [
    "import numpy as np\n",
    "\n",
    "label = np.array(['alert_11'])\n",
    "features = np.array(df.columns.difference(label))"
   ]
  },
  {
   "cell_type": "code",
   "execution_count": 5,
   "id": "747679ca-166d-4edc-ba34-c7dc908c0af7",
   "metadata": {},
   "outputs": [],
   "source": [
    "X = df[features].to_numpy()\n",
    "y = df[label].to_numpy().flatten()"
   ]
  },
  {
   "cell_type": "code",
   "execution_count": 6,
   "id": "016622dc-a778-4783-87ec-185b0f4343b9",
   "metadata": {},
   "outputs": [],
   "source": [
    "import numpy as np\n",
    "\n",
    "x_wins_shape = None\n",
    "\n",
    "def window(X_data, y_data, width: int, shift: int):\n",
    "    \n",
    "    X_wins, y_wins = [], []\n",
    "\n",
    "    for index, (X, y) in enumerate(zip(X_data, y_data)):\n",
    "        if (index + width + shift) <= X_data.shape[0]:\n",
    "\n",
    "            window = slice((index + width), (index + width + shift))\n",
    "\n",
    "            X_wins.append(X_data[index: index + width])\n",
    "\n",
    "            y_values_shift = y_data[window]\n",
    "            y_wins.append(int(np.any(y_values_shift == 1)))\n",
    "\n",
    "    X_wins = np.array(X_wins)\n",
    "    x_wins_shape = X_wins.shape\n",
    "    y_wins = np.array(y_wins)\n",
    "    return X_wins.reshape(X_wins.shape[0], -1), y_wins.flatten()"
   ]
  },
  {
   "cell_type": "code",
   "execution_count": 7,
   "id": "a5425dcb-72d4-4bda-a8f4-d89ef51dbdfc",
   "metadata": {},
   "outputs": [],
   "source": [
    "X_wins, y_wins = window(X, y, width=120, shift=180)"
   ]
  },
  {
   "cell_type": "code",
   "execution_count": 8,
   "id": "fb70cd74-b76a-4f24-8022-6bf7285dfc88",
   "metadata": {},
   "outputs": [
    {
     "name": "stdout",
     "output_type": "stream",
     "text": [
      "(6648, 1, 1560)\n"
     ]
    }
   ],
   "source": [
    "from imblearn.under_sampling import RandomUnderSampler\n",
    "\n",
    "rus = RandomUnderSampler(random_state=0)\n",
    "\n",
    "X_res, y_res = rus.fit_resample(X_wins, y_wins)\n",
    "X_res = X_res.reshape(X_res.shape[0], 1, X_res.shape[1])\n",
    "print(X_res.shape)"
   ]
  },
  {
   "cell_type": "markdown",
   "id": "a151ff7d-79a1-4863-a459-ae19e0b1ca08",
   "metadata": {},
   "source": [
    "## K-Fold Cross Validation"
   ]
  },
  {
   "cell_type": "code",
   "execution_count": 9,
   "id": "785b19ac-d144-418c-9381-f723141d7aeb",
   "metadata": {},
   "outputs": [],
   "source": [
    "from sklearn.model_selection import StratifiedKFold\n",
    "\n",
    "kf = StratifiedKFold(n_splits=5, shuffle=True, random_state=42)\n",
    "fold_metrics = []"
   ]
  },
  {
   "cell_type": "code",
   "execution_count": null,
   "id": "539ee9c0-4f04-45f1-8a42-6981993bec4f",
   "metadata": {
    "scrolled": true
   },
   "outputs": [
    {
     "name": "stdout",
     "output_type": "stream",
     "text": [
      "Training fold 1...\n",
      "Epoch 1/10\n",
      "132/167 [======================>.......] - ETA: 2s - loss: 1.8900 - accuracy: 0.6719 - precision_1: 0.7009 - recall_1: 0.6109   "
     ]
    }
   ],
   "source": [
    "import tensorflow as tf\n",
    "from tensorflow.keras.models import Sequential\n",
    "from tensorflow.keras.layers import LSTM, Bidirectional, BatchNormalization, Dense, Dropout\n",
    "from tensorflow.keras.regularizers import L2\n",
    "from tensorflow.keras.callbacks import EarlyStopping\n",
    "from tensorflow.keras.metrics import Precision, Recall\n",
    "\n",
    "for fold, (train_idx, val_idx) in enumerate(kf.split(X_res, y_res)):\n",
    "    print(f\"Training fold {fold+1}...\")\n",
    "\n",
    "    X_train, X_val = X_res[train_idx], X_res[val_idx]\n",
    "    y_train, y_val = y_res[train_idx], y_res[val_idx]\n",
    "\n",
    "    model = Sequential()\n",
    "    model.add(Bidirectional(LSTM(128, return_sequences=True, kernel_regularizer=L2(0.001)), input_shape=(X_train.shape[1], X_train.shape[2])))\n",
    "    model.add(BatchNormalization())\n",
    "    model.add(Bidirectional(LSTM(64, return_sequences=True, kernel_regularizer=L2(0.001))))\n",
    "    model.add(BatchNormalization())\n",
    "    model.add(Bidirectional(LSTM(128, return_sequences=False, kernel_regularizer=L2(0.001))))\n",
    "    model.add(BatchNormalization())\n",
    "    model.add(Dense(units=64, activation=\"relu\", kernel_regularizer=L2(0.001)))\n",
    "    model.add(Dropout(0.3))\n",
    "    model.add(Dense(units=32, activation=\"relu\", kernel_regularizer=L2(0.001)))\n",
    "    model.add(Dense(units=1, activation=\"sigmoid\"))\n",
    "\n",
    "    model.compile(\n",
    "        loss='binary_crossentropy',\n",
    "        optimizer='adam',\n",
    "        metrics=['accuracy', Precision(), Recall()]\n",
    "    )\n",
    "    \n",
    "    early_stop = EarlyStopping(monitor='val_loss', patience=5, restore_best_weights=True)\n",
    "    history = model.fit(\n",
    "        X_train, y_train,\n",
    "        epochs=10,\n",
    "        batch_size=32,\n",
    "        validation_data=(X_val, y_val),\n",
    "        callbacks=[early_stop],\n",
    "        verbose=1\n",
    "    )\n",
    "    \n",
    "    score = model.evaluate(X_val, y_val, batch_size=32, verbose=0)\n",
    "    fold_metrics.append({\n",
    "        'fold': fold + 1,\n",
    "        'loss': score[0],\n",
    "        'accuracy': score[1],\n",
    "        'precision': score[2],\n",
    "        'recall': score[3]\n",
    "    })"
   ]
  },
  {
   "cell_type": "code",
   "execution_count": null,
   "id": "a9571e81-1361-42b4-93c7-d7e45c4f7a4c",
   "metadata": {},
   "outputs": [],
   "source": [
    "metrics_df = pd.DataFrame(fold_metrics)\n",
    "\n",
    "print(\"\\nCross-Validation Results:\")\n",
    "print(metrics_df)\n",
    "print(\"\\nAverage metrics across all folds:\")\n",
    "print(metrics_df.mean())"
   ]
  }
 ],
 "metadata": {
  "kernelspec": {
   "display_name": "predictive-maintenance",
   "language": "python",
   "name": "predictive-maintenance"
  },
  "language_info": {
   "codemirror_mode": {
    "name": "ipython",
    "version": 3
   },
   "file_extension": ".py",
   "mimetype": "text/x-python",
   "name": "python",
   "nbconvert_exporter": "python",
   "pygments_lexer": "ipython3",
   "version": "3.8.10"
  }
 },
 "nbformat": 4,
 "nbformat_minor": 5
}
